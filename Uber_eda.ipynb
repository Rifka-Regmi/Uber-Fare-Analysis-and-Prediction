{
  "metadata": {
    "kernelspec": {
      "language": "python",
      "display_name": "Python 3",
      "name": "python3"
    },
    "language_info": {
      "pygments_lexer": "ipython3",
      "nbconvert_exporter": "python",
      "version": "3.6.4",
      "file_extension": ".py",
      "codemirror_mode": {
        "name": "ipython",
        "version": 3
      },
      "name": "python",
      "mimetype": "text/x-python"
    },
    "colab": {
      "provenance": []
    }
  },
  "nbformat_minor": 0,
  "nbformat": 4,
  "cells": [
    {
      "cell_type": "code",
      "source": [
        "import numpy as np\n",
        "import pandas as pd\n",
        "import matplotlib.pyplot as plt\n",
        "import seaborn as sns"
      ],
      "metadata": {
        "execution": {
          "iopub.status.busy": "2023-05-20T14:37:03.013848Z",
          "iopub.execute_input": "2023-05-20T14:37:03.014611Z",
          "iopub.status.idle": "2023-05-20T14:37:04.506695Z",
          "shell.execute_reply.started": "2023-05-20T14:37:03.014572Z",
          "shell.execute_reply": "2023-05-20T14:37:04.50581Z"
        },
        "trusted": true,
        "id": "GM1UtEar4VI_"
      },
      "execution_count": null,
      "outputs": []
    },
    {
      "cell_type": "code",
      "source": [
        "df = pd.read_csv('uber.csv')"
      ],
      "metadata": {
        "execution": {
          "iopub.status.busy": "2023-05-20T14:37:31.373624Z",
          "iopub.execute_input": "2023-05-20T14:37:31.374022Z",
          "iopub.status.idle": "2023-05-20T14:37:32.365022Z",
          "shell.execute_reply.started": "2023-05-20T14:37:31.373992Z",
          "shell.execute_reply": "2023-05-20T14:37:32.363777Z"
        },
        "trusted": true,
        "id": "xzcq9OwM4VJK"
      },
      "execution_count": null,
      "outputs": []
    },
    {
      "cell_type": "code",
      "source": [
        "df.head()"
      ],
      "metadata": {
        "execution": {
          "iopub.status.busy": "2023-05-20T14:37:34.906221Z",
          "iopub.execute_input": "2023-05-20T14:37:34.906606Z",
          "iopub.status.idle": "2023-05-20T14:37:34.947339Z",
          "shell.execute_reply.started": "2023-05-20T14:37:34.906578Z",
          "shell.execute_reply": "2023-05-20T14:37:34.946024Z"
        },
        "trusted": true,
        "colab": {
          "base_uri": "https://localhost:8080/",
          "height": 354
        },
        "id": "xXY-ezp84VJL",
        "outputId": "a3aa9660-2bce-42d4-fc28-8ab317ead76c"
      },
      "execution_count": null,
      "outputs": [
        {
          "output_type": "execute_result",
          "data": {
            "text/plain": [
              "   Unnamed: 0                            key  fare_amount  \\\n",
              "0    24238194    2015-05-07 19:52:06.0000003          7.5   \n",
              "1    27835199    2009-07-17 20:04:56.0000002          7.7   \n",
              "2    44984355   2009-08-24 21:45:00.00000061         12.9   \n",
              "3    25894730    2009-06-26 08:22:21.0000001          5.3   \n",
              "4    17610152  2014-08-28 17:47:00.000000188         16.0   \n",
              "\n",
              "           pickup_datetime  pickup_longitude  pickup_latitude  \\\n",
              "0  2015-05-07 19:52:06 UTC        -73.999817        40.738354   \n",
              "1  2009-07-17 20:04:56 UTC        -73.994355        40.728225   \n",
              "2  2009-08-24 21:45:00 UTC        -74.005043        40.740770   \n",
              "3  2009-06-26 08:22:21 UTC        -73.976124        40.790844   \n",
              "4  2014-08-28 17:47:00 UTC        -73.925023        40.744085   \n",
              "\n",
              "   dropoff_longitude  dropoff_latitude  passenger_count  \n",
              "0         -73.999512         40.723217              1.0  \n",
              "1         -73.994710         40.750325              1.0  \n",
              "2         -73.962565         40.772647              1.0  \n",
              "3         -73.965316         40.803349              3.0  \n",
              "4         -73.973082         40.761247              5.0  "
            ],
            "text/html": [
              "\n",
              "  <div id=\"df-5eaae06c-b372-4564-b8dc-82947ca4eea0\">\n",
              "    <div class=\"colab-df-container\">\n",
              "      <div>\n",
              "<style scoped>\n",
              "    .dataframe tbody tr th:only-of-type {\n",
              "        vertical-align: middle;\n",
              "    }\n",
              "\n",
              "    .dataframe tbody tr th {\n",
              "        vertical-align: top;\n",
              "    }\n",
              "\n",
              "    .dataframe thead th {\n",
              "        text-align: right;\n",
              "    }\n",
              "</style>\n",
              "<table border=\"1\" class=\"dataframe\">\n",
              "  <thead>\n",
              "    <tr style=\"text-align: right;\">\n",
              "      <th></th>\n",
              "      <th>Unnamed: 0</th>\n",
              "      <th>key</th>\n",
              "      <th>fare_amount</th>\n",
              "      <th>pickup_datetime</th>\n",
              "      <th>pickup_longitude</th>\n",
              "      <th>pickup_latitude</th>\n",
              "      <th>dropoff_longitude</th>\n",
              "      <th>dropoff_latitude</th>\n",
              "      <th>passenger_count</th>\n",
              "    </tr>\n",
              "  </thead>\n",
              "  <tbody>\n",
              "    <tr>\n",
              "      <th>0</th>\n",
              "      <td>24238194</td>\n",
              "      <td>2015-05-07 19:52:06.0000003</td>\n",
              "      <td>7.5</td>\n",
              "      <td>2015-05-07 19:52:06 UTC</td>\n",
              "      <td>-73.999817</td>\n",
              "      <td>40.738354</td>\n",
              "      <td>-73.999512</td>\n",
              "      <td>40.723217</td>\n",
              "      <td>1.0</td>\n",
              "    </tr>\n",
              "    <tr>\n",
              "      <th>1</th>\n",
              "      <td>27835199</td>\n",
              "      <td>2009-07-17 20:04:56.0000002</td>\n",
              "      <td>7.7</td>\n",
              "      <td>2009-07-17 20:04:56 UTC</td>\n",
              "      <td>-73.994355</td>\n",
              "      <td>40.728225</td>\n",
              "      <td>-73.994710</td>\n",
              "      <td>40.750325</td>\n",
              "      <td>1.0</td>\n",
              "    </tr>\n",
              "    <tr>\n",
              "      <th>2</th>\n",
              "      <td>44984355</td>\n",
              "      <td>2009-08-24 21:45:00.00000061</td>\n",
              "      <td>12.9</td>\n",
              "      <td>2009-08-24 21:45:00 UTC</td>\n",
              "      <td>-74.005043</td>\n",
              "      <td>40.740770</td>\n",
              "      <td>-73.962565</td>\n",
              "      <td>40.772647</td>\n",
              "      <td>1.0</td>\n",
              "    </tr>\n",
              "    <tr>\n",
              "      <th>3</th>\n",
              "      <td>25894730</td>\n",
              "      <td>2009-06-26 08:22:21.0000001</td>\n",
              "      <td>5.3</td>\n",
              "      <td>2009-06-26 08:22:21 UTC</td>\n",
              "      <td>-73.976124</td>\n",
              "      <td>40.790844</td>\n",
              "      <td>-73.965316</td>\n",
              "      <td>40.803349</td>\n",
              "      <td>3.0</td>\n",
              "    </tr>\n",
              "    <tr>\n",
              "      <th>4</th>\n",
              "      <td>17610152</td>\n",
              "      <td>2014-08-28 17:47:00.000000188</td>\n",
              "      <td>16.0</td>\n",
              "      <td>2014-08-28 17:47:00 UTC</td>\n",
              "      <td>-73.925023</td>\n",
              "      <td>40.744085</td>\n",
              "      <td>-73.973082</td>\n",
              "      <td>40.761247</td>\n",
              "      <td>5.0</td>\n",
              "    </tr>\n",
              "  </tbody>\n",
              "</table>\n",
              "</div>\n",
              "      <button class=\"colab-df-convert\" onclick=\"convertToInteractive('df-5eaae06c-b372-4564-b8dc-82947ca4eea0')\"\n",
              "              title=\"Convert this dataframe to an interactive table.\"\n",
              "              style=\"display:none;\">\n",
              "        \n",
              "  <svg xmlns=\"http://www.w3.org/2000/svg\" height=\"24px\"viewBox=\"0 0 24 24\"\n",
              "       width=\"24px\">\n",
              "    <path d=\"M0 0h24v24H0V0z\" fill=\"none\"/>\n",
              "    <path d=\"M18.56 5.44l.94 2.06.94-2.06 2.06-.94-2.06-.94-.94-2.06-.94 2.06-2.06.94zm-11 1L8.5 8.5l.94-2.06 2.06-.94-2.06-.94L8.5 2.5l-.94 2.06-2.06.94zm10 10l.94 2.06.94-2.06 2.06-.94-2.06-.94-.94-2.06-.94 2.06-2.06.94z\"/><path d=\"M17.41 7.96l-1.37-1.37c-.4-.4-.92-.59-1.43-.59-.52 0-1.04.2-1.43.59L10.3 9.45l-7.72 7.72c-.78.78-.78 2.05 0 2.83L4 21.41c.39.39.9.59 1.41.59.51 0 1.02-.2 1.41-.59l7.78-7.78 2.81-2.81c.8-.78.8-2.07 0-2.86zM5.41 20L4 18.59l7.72-7.72 1.47 1.35L5.41 20z\"/>\n",
              "  </svg>\n",
              "      </button>\n",
              "      \n",
              "  <style>\n",
              "    .colab-df-container {\n",
              "      display:flex;\n",
              "      flex-wrap:wrap;\n",
              "      gap: 12px;\n",
              "    }\n",
              "\n",
              "    .colab-df-convert {\n",
              "      background-color: #E8F0FE;\n",
              "      border: none;\n",
              "      border-radius: 50%;\n",
              "      cursor: pointer;\n",
              "      display: none;\n",
              "      fill: #1967D2;\n",
              "      height: 32px;\n",
              "      padding: 0 0 0 0;\n",
              "      width: 32px;\n",
              "    }\n",
              "\n",
              "    .colab-df-convert:hover {\n",
              "      background-color: #E2EBFA;\n",
              "      box-shadow: 0px 1px 2px rgba(60, 64, 67, 0.3), 0px 1px 3px 1px rgba(60, 64, 67, 0.15);\n",
              "      fill: #174EA6;\n",
              "    }\n",
              "\n",
              "    [theme=dark] .colab-df-convert {\n",
              "      background-color: #3B4455;\n",
              "      fill: #D2E3FC;\n",
              "    }\n",
              "\n",
              "    [theme=dark] .colab-df-convert:hover {\n",
              "      background-color: #434B5C;\n",
              "      box-shadow: 0px 1px 3px 1px rgba(0, 0, 0, 0.15);\n",
              "      filter: drop-shadow(0px 1px 2px rgba(0, 0, 0, 0.3));\n",
              "      fill: #FFFFFF;\n",
              "    }\n",
              "  </style>\n",
              "\n",
              "      <script>\n",
              "        const buttonEl =\n",
              "          document.querySelector('#df-5eaae06c-b372-4564-b8dc-82947ca4eea0 button.colab-df-convert');\n",
              "        buttonEl.style.display =\n",
              "          google.colab.kernel.accessAllowed ? 'block' : 'none';\n",
              "\n",
              "        async function convertToInteractive(key) {\n",
              "          const element = document.querySelector('#df-5eaae06c-b372-4564-b8dc-82947ca4eea0');\n",
              "          const dataTable =\n",
              "            await google.colab.kernel.invokeFunction('convertToInteractive',\n",
              "                                                     [key], {});\n",
              "          if (!dataTable) return;\n",
              "\n",
              "          const docLinkHtml = 'Like what you see? Visit the ' +\n",
              "            '<a target=\"_blank\" href=https://colab.research.google.com/notebooks/data_table.ipynb>data table notebook</a>'\n",
              "            + ' to learn more about interactive tables.';\n",
              "          element.innerHTML = '';\n",
              "          dataTable['output_type'] = 'display_data';\n",
              "          await google.colab.output.renderOutput(dataTable, element);\n",
              "          const docLink = document.createElement('div');\n",
              "          docLink.innerHTML = docLinkHtml;\n",
              "          element.appendChild(docLink);\n",
              "        }\n",
              "      </script>\n",
              "    </div>\n",
              "  </div>\n",
              "  "
            ]
          },
          "metadata": {},
          "execution_count": 3
        }
      ]
    },
    {
      "cell_type": "markdown",
      "source": [
        "Cleaning the data"
      ],
      "metadata": {
        "id": "RJzzb2fK4VJM"
      }
    },
    {
      "cell_type": "code",
      "source": [
        "df.shape"
      ],
      "metadata": {
        "execution": {
          "iopub.status.busy": "2023-05-20T14:37:42.550446Z",
          "iopub.execute_input": "2023-05-20T14:37:42.550845Z",
          "iopub.status.idle": "2023-05-20T14:37:42.559112Z",
          "shell.execute_reply.started": "2023-05-20T14:37:42.550815Z",
          "shell.execute_reply": "2023-05-20T14:37:42.557511Z"
        },
        "trusted": true,
        "colab": {
          "base_uri": "https://localhost:8080/"
        },
        "id": "9uaK0Fdt4VJP",
        "outputId": "d34e2a8f-ab50-4467-fde6-6aef1fdb4fc1"
      },
      "execution_count": null,
      "outputs": [
        {
          "output_type": "execute_result",
          "data": {
            "text/plain": [
              "(62527, 9)"
            ]
          },
          "metadata": {},
          "execution_count": 4
        }
      ]
    },
    {
      "cell_type": "code",
      "source": [
        "df.dropna(inplace=True)\n",
        "df.drop(['key','Unnamed: 0'], axis=1,inplace=True)"
      ],
      "metadata": {
        "execution": {
          "iopub.status.busy": "2023-05-20T14:38:01.219495Z",
          "iopub.execute_input": "2023-05-20T14:38:01.219905Z",
          "iopub.status.idle": "2023-05-20T14:38:01.3856Z",
          "shell.execute_reply.started": "2023-05-20T14:38:01.219876Z",
          "shell.execute_reply": "2023-05-20T14:38:01.384364Z"
        },
        "trusted": true,
        "id": "69USH1ZX4VJV"
      },
      "execution_count": null,
      "outputs": []
    },
    {
      "cell_type": "code",
      "source": [
        "df.isnull().sum()"
      ],
      "metadata": {
        "execution": {
          "iopub.status.busy": "2023-05-20T14:38:21.23641Z",
          "iopub.execute_input": "2023-05-20T14:38:21.23681Z",
          "iopub.status.idle": "2023-05-20T14:38:21.311354Z",
          "shell.execute_reply.started": "2023-05-20T14:38:21.236778Z",
          "shell.execute_reply": "2023-05-20T14:38:21.310114Z"
        },
        "trusted": true,
        "colab": {
          "base_uri": "https://localhost:8080/"
        },
        "id": "JbeOzSxx4VJV",
        "outputId": "3273b06f-c535-46a7-e6f3-25b95e898b86"
      },
      "execution_count": null,
      "outputs": [
        {
          "output_type": "execute_result",
          "data": {
            "text/plain": [
              "fare_amount          0\n",
              "pickup_datetime      0\n",
              "pickup_longitude     0\n",
              "pickup_latitude      0\n",
              "dropoff_longitude    0\n",
              "dropoff_latitude     0\n",
              "passenger_count      0\n",
              "dtype: int64"
            ]
          },
          "metadata": {},
          "execution_count": 6
        }
      ]
    },
    {
      "cell_type": "code",
      "source": [
        "#correlation between coefficients\n",
        "\n",
        "plt.figure(figsize=(12,12))\n",
        "dataplot = sns.heatmap(df.corr(), cmap=\"Blues\", annot=True)\n",
        "plt.show()"
      ],
      "metadata": {
        "execution": {
          "iopub.status.busy": "2023-05-20T14:38:27.30195Z",
          "iopub.execute_input": "2023-05-20T14:38:27.302421Z",
          "iopub.status.idle": "2023-05-20T14:38:27.845611Z",
          "shell.execute_reply.started": "2023-05-20T14:38:27.302384Z",
          "shell.execute_reply": "2023-05-20T14:38:27.844722Z"
        },
        "trusted": true,
        "colab": {
          "base_uri": "https://localhost:8080/",
          "height": 1000
        },
        "id": "edM15mbz4VJW",
        "outputId": "6fbee1f3-d788-4656-9527-58dee96ae626"
      },
      "execution_count": null,
      "outputs": [
        {
          "output_type": "stream",
          "name": "stderr",
          "text": [
            "<ipython-input-7-5eb53adc2a15>:4: FutureWarning: The default value of numeric_only in DataFrame.corr is deprecated. In a future version, it will default to False. Select only valid columns or specify the value of numeric_only to silence this warning.\n",
            "  dataplot = sns.heatmap(df.corr(), cmap=\"Blues\", annot=True)\n"
          ]
        },
        {
          "output_type": "display_data",
          "data": {
            "text/plain": [
              "<Figure size 1200x1200 with 2 Axes>"
            ],
            "image/png": "[encoded data removed]"
          },
          "metadata": {}
        }
      ]
    },
    {
      "cell_type": "markdown",
      "source": [
        "> Finding distance between pickoff - dropoff\n",
        "\n"
      ],
      "metadata": {
        "id": "os8SJXwS4VJW"
      }
    },
    {
      "cell_type": "code",
      "source": [
        "df=df[(abs(df['pickup_latitude'])<90)& (abs(df['dropoff_latitude'])<90)]"
      ],
      "metadata": {
        "execution": {
          "iopub.status.busy": "2023-05-20T14:38:37.844354Z",
          "iopub.execute_input": "2023-05-20T14:38:37.844788Z",
          "iopub.status.idle": "2023-05-20T14:38:37.867772Z",
          "shell.execute_reply.started": "2023-05-20T14:38:37.844751Z",
          "shell.execute_reply": "2023-05-20T14:38:37.866506Z"
        },
        "trusted": true,
        "id": "Bwxb-XKQ4VJW"
      },
      "execution_count": null,
      "outputs": []
    },
    {
      "cell_type": "code",
      "source": [
        "df.shape"
      ],
      "metadata": {
        "execution": {
          "iopub.status.busy": "2023-05-20T14:38:41.678221Z",
          "iopub.execute_input": "2023-05-20T14:38:41.678616Z",
          "iopub.status.idle": "2023-05-20T14:38:41.68687Z",
          "shell.execute_reply.started": "2023-05-20T14:38:41.678585Z",
          "shell.execute_reply": "2023-05-20T14:38:41.68565Z"
        },
        "trusted": true,
        "colab": {
          "base_uri": "https://localhost:8080/"
        },
        "id": "CP6Mhxxw4VJX",
        "outputId": "0644dffe-714a-4706-a2eb-80f18bf32c9f"
      },
      "execution_count": null,
      "outputs": [
        {
          "output_type": "execute_result",
          "data": {
            "text/plain": [
              "(62524, 7)"
            ]
          },
          "metadata": {},
          "execution_count": 9
        }
      ]
    },
    {
      "cell_type": "code",
      "source": [
        "#Using python library Geopy\n",
        "\n",
        "from geopy.distance import geodesic\n",
        "from geopy.distance import distance"
      ],
      "metadata": {
        "execution": {
          "iopub.status.busy": "2023-05-20T14:38:46.885754Z",
          "iopub.execute_input": "2023-05-20T14:38:46.887143Z",
          "iopub.status.idle": "2023-05-20T14:38:47.117367Z",
          "shell.execute_reply.started": "2023-05-20T14:38:46.887073Z",
          "shell.execute_reply": "2023-05-20T14:38:47.116251Z"
        },
        "trusted": true,
        "id": "zB3bkSx94VJX"
      },
      "execution_count": null,
      "outputs": []
    },
    {
      "cell_type": "code",
      "source": [
        "#Convert df to list\n",
        "\n",
        "pick_lat = df['pickup_latitude'].to_list()\n",
        "pick_long=df['pickup_longitude'].to_list()\n",
        "drop_lat=df['dropoff_latitude'].to_list()\n",
        "drop_long=df['dropoff_longitude'].to_list()"
      ],
      "metadata": {
        "execution": {
          "iopub.status.busy": "2023-05-20T14:38:54.191004Z",
          "iopub.execute_input": "2023-05-20T14:38:54.191768Z",
          "iopub.status.idle": "2023-05-20T14:38:54.242333Z",
          "shell.execute_reply.started": "2023-05-20T14:38:54.19173Z",
          "shell.execute_reply": "2023-05-20T14:38:54.241088Z"
        },
        "trusted": true,
        "id": "yfSQ2KCr4VJX"
      },
      "execution_count": null,
      "outputs": []
    },
    {
      "cell_type": "code",
      "source": [
        "#Create new list distances\n",
        "\n",
        "distances=[]\n",
        "for i in range(len(drop_lat)):\n",
        "  pickup=(pick_lat[i],pick_long[i])\n",
        "  drop=(drop_lat[i],drop_long[i])\n",
        "  distance=geodesic(pickup,drop).km\n",
        "  distances.append(distance)\n",
        ""
      ],
      "metadata": {
        "execution": {
          "iopub.status.busy": "2023-05-20T14:38:59.986533Z",
          "iopub.execute_input": "2023-05-20T14:38:59.986982Z",
          "iopub.status.idle": "2023-05-20T14:39:58.654311Z",
          "shell.execute_reply.started": "2023-05-20T14:38:59.986948Z",
          "shell.execute_reply": "2023-05-20T14:39:58.653096Z"
        },
        "trusted": true,
        "id": "_pz_IPqA4VJY"
      },
      "execution_count": null,
      "outputs": []
    },
    {
      "cell_type": "code",
      "source": [
        "#Create a dataframe\n",
        "\n",
        "Distance=pd.DataFrame(distances)"
      ],
      "metadata": {
        "execution": {
          "iopub.status.busy": "2023-05-20T14:40:09.516291Z",
          "iopub.execute_input": "2023-05-20T14:40:09.516702Z",
          "iopub.status.idle": "2023-05-20T14:40:09.562578Z",
          "shell.execute_reply.started": "2023-05-20T14:40:09.516671Z",
          "shell.execute_reply": "2023-05-20T14:40:09.561229Z"
        },
        "trusted": true,
        "id": "fOmIK_PF4VJY"
      },
      "execution_count": null,
      "outputs": []
    },
    {
      "cell_type": "code",
      "source": [
        "Distance['Distance in kms']=pd.DataFrame(distances)"
      ],
      "metadata": {
        "execution": {
          "iopub.status.busy": "2023-05-20T14:40:14.379073Z",
          "iopub.execute_input": "2023-05-20T14:40:14.37953Z",
          "iopub.status.idle": "2023-05-20T14:40:14.422135Z",
          "shell.execute_reply.started": "2023-05-20T14:40:14.379494Z",
          "shell.execute_reply": "2023-05-20T14:40:14.420985Z"
        },
        "trusted": true,
        "id": "ZohtgbOb4VJY"
      },
      "execution_count": null,
      "outputs": []
    },
    {
      "cell_type": "code",
      "source": [
        "df['Distances in kms']=Distance['Distance in kms']"
      ],
      "metadata": {
        "execution": {
          "iopub.status.busy": "2023-05-20T14:40:18.234946Z",
          "iopub.execute_input": "2023-05-20T14:40:18.235361Z",
          "iopub.status.idle": "2023-05-20T14:40:18.249555Z",
          "shell.execute_reply.started": "2023-05-20T14:40:18.235329Z",
          "shell.execute_reply": "2023-05-20T14:40:18.248399Z"
        },
        "trusted": true,
        "id": "GWHVRA_h4VJY"
      },
      "execution_count": null,
      "outputs": []
    },
    {
      "cell_type": "code",
      "source": [
        "plt.figure(figsize=(8,8))\n",
        "plt.scatter(df['Distances in kms'],df['fare_amount'],c='blue')\n",
        "plt.title('Fare amount in respect to the distance')\n",
        "plt.xlabel('Distances')\n",
        "plt.ylabel('fare_amount')"
      ],
      "metadata": {
        "execution": {
          "iopub.status.busy": "2023-05-20T14:40:21.585646Z",
          "iopub.execute_input": "2023-05-20T14:40:21.58604Z",
          "iopub.status.idle": "2023-05-20T14:40:22.695581Z",
          "shell.execute_reply.started": "2023-05-20T14:40:21.586012Z",
          "shell.execute_reply": "2023-05-20T14:40:22.694548Z"
        },
        "trusted": true,
        "colab": {
          "base_uri": "https://localhost:8080/",
          "height": 735
        },
        "id": "oTVAywUW4VJZ",
        "outputId": "24ad9871-0923-43da-c4bb-7017d20ca3a9"
      },
      "execution_count": null,
      "outputs": [
        {
          "output_type": "execute_result",
          "data": {
            "text/plain": [
              "Text(0, 0.5, 'fare_amount')"
            ]
          },
          "metadata": {},
          "execution_count": 16
        },
        {
          "output_type": "display_data",
          "data": {
            "text/plain": [
              "<Figure size 800x800 with 1 Axes>"
            ],
            "image/png": "[encoded data removed]"
          },
          "metadata": {}
        }
      ]
    },
    {
      "cell_type": "code",
      "source": [
        "#create a function for distance calculation between the two locations latitudes and logitudes\n",
        "from math import radians, cos, sin, asin, sqrt\n",
        "def calculate_distance(lat1, lat2, lon1, lon2):\n",
        "\n",
        "\t# The math module contains a function named\n",
        "\t# radians which converts from degrees to radians.\n",
        "\tlon1 = radians(lon1)\n",
        "\tlon2 = radians(lon2)\n",
        "\tlat1 = radians(lat1)\n",
        "\tlat2 = radians(lat2)\n",
        "\n",
        "\t# Haversine formula\n",
        "\tdlon = lon2 - lon1\n",
        "\tdlat = lat2 - lat1\n",
        "\ta = sin(dlat / 2)**2 + cos(lat1) * cos(lat2) * sin(dlon / 2)**2\n",
        "\n",
        "\tc = 2 * asin(sqrt(a))\n",
        "\n",
        "\t# Radius of earth in kilometers. Use 3956 for miles\n",
        "\tr = 6371\n",
        "\n",
        "\t# calculate the result\n",
        "\treturn(c * r)"
      ],
      "metadata": {
        "execution": {
          "iopub.status.busy": "2023-05-20T14:42:14.086312Z",
          "iopub.execute_input": "2023-05-20T14:42:14.0867Z",
          "iopub.status.idle": "2023-05-20T14:42:14.094869Z",
          "shell.execute_reply.started": "2023-05-20T14:42:14.086671Z",
          "shell.execute_reply": "2023-05-20T14:42:14.093606Z"
        },
        "trusted": true,
        "id": "QWV1Qrci4VJZ"
      },
      "execution_count": null,
      "outputs": []
    },
    {
      "cell_type": "code",
      "source": [
        "\n",
        "#extract the time out of date and bin it to the morning, afternoon, evening, night\n",
        "df['pickup_datetime'] = pd.to_datetime(df.pickup_datetime,utc=True)\n",
        "\n",
        "df['pickup_timehour']= df['pickup_datetime'].apply(lambda x: x.hour)\n",
        "df['Day']= df['pickup_datetime'].dt.day_name()\n",
        "df['Day Part']= pd.cut(df['pickup_timehour'],bins=[-1,4,12,17,21,23],labels=['Night','Morning','Afternoon','Evening','Night'],ordered=False)\n",
        "df['pickup_month']= df['pickup_datetime'].apply(lambda x: x.month)\n",
        "df['pickup_year']= df['pickup_datetime'].apply(lambda x: x.year)\n",
        "df['distance_travelled (KM)']= df.apply(lambda x:  calculate_distance(x['pickup_latitude'],x['dropoff_latitude'],x['pickup_longitude'],x['dropoff_longitude']),axis=1)\n",
        "\n"
      ],
      "metadata": {
        "execution": {
          "iopub.status.busy": "2023-05-20T14:42:46.476137Z",
          "iopub.execute_input": "2023-05-20T14:42:46.476929Z",
          "iopub.status.idle": "2023-05-20T14:42:53.526384Z",
          "shell.execute_reply.started": "2023-05-20T14:42:46.476889Z",
          "shell.execute_reply": "2023-05-20T14:42:53.525092Z"
        },
        "trusted": true,
        "id": "t7DWPS2-4VJZ"
      },
      "execution_count": null,
      "outputs": []
    },
    {
      "cell_type": "code",
      "source": [
        "df"
      ],
      "metadata": {
        "execution": {
          "iopub.status.busy": "2023-05-20T14:42:59.305069Z",
          "iopub.execute_input": "2023-05-20T14:42:59.305478Z",
          "iopub.status.idle": "2023-05-20T14:42:59.33743Z",
          "shell.execute_reply.started": "2023-05-20T14:42:59.305448Z",
          "shell.execute_reply": "2023-05-20T14:42:59.336554Z"
        },
        "trusted": true,
        "colab": {
          "base_uri": "https://localhost:8080/",
          "height": 678
        },
        "id": "oUz4jI0q4VJZ",
        "outputId": "6b0c856f-4dc4-4901-9c46-63e9904ebfac"
      },
      "execution_count": null,
      "outputs": [
        {
          "output_type": "execute_result",
          "data": {
            "text/plain": [
              "       fare_amount           pickup_datetime  pickup_longitude  \\\n",
              "0              7.5 2015-05-07 19:52:06+00:00        -73.999817   \n",
              "1              7.7 2009-07-17 20:04:56+00:00        -73.994355   \n",
              "2             12.9 2009-08-24 21:45:00+00:00        -74.005043   \n",
              "3              5.3 2009-06-26 08:22:21+00:00        -73.976124   \n",
              "4             16.0 2014-08-28 17:47:00+00:00        -73.925023   \n",
              "...            ...                       ...               ...   \n",
              "62521         10.5 2012-10-31 10:04:52+00:00        -73.954478   \n",
              "62522          9.5 2015-02-03 20:14:56+00:00        -73.980125   \n",
              "62523         10.5 2012-02-02 05:57:00+00:00        -73.949597   \n",
              "62524          4.0 2015-01-26 17:34:42+00:00        -73.949532   \n",
              "62525          7.7 2009-03-19 09:23:02+00:00        -73.951052   \n",
              "\n",
              "       pickup_latitude  dropoff_longitude  dropoff_latitude  passenger_count  \\\n",
              "0            40.738354         -73.999512         40.723217              1.0   \n",
              "1            40.728225         -73.994710         40.750325              1.0   \n",
              "2            40.740770         -73.962565         40.772647              1.0   \n",
              "3            40.790844         -73.965316         40.803349              3.0   \n",
              "4            40.744085         -73.973082         40.761247              5.0   \n",
              "...                ...                ...               ...              ...   \n",
              "62521        40.765868         -73.948091         40.787190              1.0   \n",
              "62522        40.742516         -74.001640         40.740215              1.0   \n",
              "62523        40.782017         -73.984855         40.747992              1.0   \n",
              "62524        40.802330         -73.943878         40.799492              1.0   \n",
              "62525        40.785781         -73.965221         40.759170              1.0   \n",
              "\n",
              "       Distances in kms  pickup_timehour        Day   Day Part  pickup_month  \\\n",
              "0              1.681111               19   Thursday    Evening             5   \n",
              "1              2.454363               20     Friday    Evening             7   \n",
              "2              5.039603               21     Monday    Evening             8   \n",
              "3              1.661442                8     Friday    Morning             6   \n",
              "4              4.483730               17   Thursday  Afternoon             8   \n",
              "...                 ...              ...        ...        ...           ...   \n",
              "62521          4.810296               10  Wednesday    Morning            10   \n",
              "62522          0.571784               20    Tuesday    Evening             2   \n",
              "62523          3.188062                5   Thursday    Morning             2   \n",
              "62524               NaN               17     Monday  Afternoon             1   \n",
              "62525               NaN                9   Thursday    Morning             3   \n",
              "\n",
              "       pickup_year  distance_travelled (KM)  \n",
              "0             2015                 1.683323  \n",
              "1             2009                 2.457590  \n",
              "2             2009                 5.036377  \n",
              "3             2009                 1.661683  \n",
              "4             2014                 4.475450  \n",
              "...            ...                      ...  \n",
              "62521         2012                 2.431131  \n",
              "62522         2015                 1.830551  \n",
              "62523         2012                 4.809505  \n",
              "62524         2015                 0.570998  \n",
              "62525         2009                 3.190509  \n",
              "\n",
              "[62524 rows x 14 columns]"
            ],
            "text/html": [
              "\n",
              "  <div id=\"df-1120160b-c5ec-41b0-8112-d7b7cf345412\">\n",
              "    <div class=\"colab-df-container\">\n",
              "      <div>\n",
              "<style scoped>\n",
              "    .dataframe tbody tr th:only-of-type {\n",
              "        vertical-align: middle;\n",
              "    }\n",
              "\n",
              "    .dataframe tbody tr th {\n",
              "        vertical-align: top;\n",
              "    }\n",
              "\n",
              "    .dataframe thead th {\n",
              "        text-align: right;\n",
              "    }\n",
              "</style>\n",
              "<table border=\"1\" class=\"dataframe\">\n",
              "  <thead>\n",
              "    <tr style=\"text-align: right;\">\n",
              "      <th></th>\n",
              "      <th>fare_amount</th>\n",
              "      <th>pickup_datetime</th>\n",
              "      <th>pickup_longitude</th>\n",
              "      <th>pickup_latitude</th>\n",
              "      <th>dropoff_longitude</th>\n",
              "      <th>dropoff_latitude</th>\n",
              "      <th>passenger_count</th>\n",
              "      <th>Distances in kms</th>\n",
              "      <th>pickup_timehour</th>\n",
              "      <th>Day</th>\n",
              "      <th>Day Part</th>\n",
              "      <th>pickup_month</th>\n",
              "      <th>pickup_year</th>\n",
              "      <th>distance_travelled (KM)</th>\n",
              "    </tr>\n",
              "  </thead>\n",
              "  <tbody>\n",
              "    <tr>\n",
              "      <th>0</th>\n",
              "      <td>7.5</td>\n",
              "      <td>2015-05-07 19:52:06+00:00</td>\n",
              "      <td>-73.999817</td>\n",
              "      <td>40.738354</td>\n",
              "      <td>-73.999512</td>\n",
              "      <td>40.723217</td>\n",
              "      <td>1.0</td>\n",
              "      <td>1.681111</td>\n",
              "      <td>19</td>\n",
              "      <td>Thursday</td>\n",
              "      <td>Evening</td>\n",
              "      <td>5</td>\n",
              "      <td>2015</td>\n",
              "      <td>1.683323</td>\n",
              "    </tr>\n",
              "    <tr>\n",
              "      <th>1</th>\n",
              "      <td>7.7</td>\n",
              "      <td>2009-07-17 20:04:56+00:00</td>\n",
              "      <td>-73.994355</td>\n",
              "      <td>40.728225</td>\n",
              "      <td>-73.994710</td>\n",
              "      <td>40.750325</td>\n",
              "      <td>1.0</td>\n",
              "      <td>2.454363</td>\n",
              "      <td>20</td>\n",
              "      <td>Friday</td>\n",
              "      <td>Evening</td>\n",
              "      <td>7</td>\n",
              "      <td>2009</td>\n",
              "      <td>2.457590</td>\n",
              "    </tr>\n",
              "    <tr>\n",
              "      <th>2</th>\n",
              "      <td>12.9</td>\n",
              "      <td>2009-08-24 21:45:00+00:00</td>\n",
              "      <td>-74.005043</td>\n",
              "      <td>40.740770</td>\n",
              "      <td>-73.962565</td>\n",
              "      <td>40.772647</td>\n",
              "      <td>1.0</td>\n",
              "      <td>5.039603</td>\n",
              "      <td>21</td>\n",
              "      <td>Monday</td>\n",
              "      <td>Evening</td>\n",
              "      <td>8</td>\n",
              "      <td>2009</td>\n",
              "      <td>5.036377</td>\n",
              "    </tr>\n",
              "    <tr>\n",
              "      <th>3</th>\n",
              "      <td>5.3</td>\n",
              "      <td>2009-06-26 08:22:21+00:00</td>\n",
              "      <td>-73.976124</td>\n",
              "      <td>40.790844</td>\n",
              "      <td>-73.965316</td>\n",
              "      <td>40.803349</td>\n",
              "      <td>3.0</td>\n",
              "      <td>1.661442</td>\n",
              "      <td>8</td>\n",
              "      <td>Friday</td>\n",
              "      <td>Morning</td>\n",
              "      <td>6</td>\n",
              "      <td>2009</td>\n",
              "      <td>1.661683</td>\n",
              "    </tr>\n",
              "    <tr>\n",
              "      <th>4</th>\n",
              "      <td>16.0</td>\n",
              "      <td>2014-08-28 17:47:00+00:00</td>\n",
              "      <td>-73.925023</td>\n",
              "      <td>40.744085</td>\n",
              "      <td>-73.973082</td>\n",
              "      <td>40.761247</td>\n",
              "      <td>5.0</td>\n",
              "      <td>4.483730</td>\n",
              "      <td>17</td>\n",
              "      <td>Thursday</td>\n",
              "      <td>Afternoon</td>\n",
              "      <td>8</td>\n",
              "      <td>2014</td>\n",
              "      <td>4.475450</td>\n",
              "    </tr>\n",
              "    <tr>\n",
              "      <th>...</th>\n",
              "      <td>...</td>\n",
              "      <td>...</td>\n",
              "      <td>...</td>\n",
              "      <td>...</td>\n",
              "      <td>...</td>\n",
              "      <td>...</td>\n",
              "      <td>...</td>\n",
              "      <td>...</td>\n",
              "      <td>...</td>\n",
              "      <td>...</td>\n",
              "      <td>...</td>\n",
              "      <td>...</td>\n",
              "      <td>...</td>\n",
              "      <td>...</td>\n",
              "    </tr>\n",
              "    <tr>\n",
              "      <th>62521</th>\n",
              "      <td>10.5</td>\n",
              "      <td>2012-10-31 10:04:52+00:00</td>\n",
              "      <td>-73.954478</td>\n",
              "      <td>40.765868</td>\n",
              "      <td>-73.948091</td>\n",
              "      <td>40.787190</td>\n",
              "      <td>1.0</td>\n",
              "      <td>4.810296</td>\n",
              "      <td>10</td>\n",
              "      <td>Wednesday</td>\n",
              "      <td>Morning</td>\n",
              "      <td>10</td>\n",
              "      <td>2012</td>\n",
              "      <td>2.431131</td>\n",
              "    </tr>\n",
              "    <tr>\n",
              "      <th>62522</th>\n",
              "      <td>9.5</td>\n",
              "      <td>2015-02-03 20:14:56+00:00</td>\n",
              "      <td>-73.980125</td>\n",
              "      <td>40.742516</td>\n",
              "      <td>-74.001640</td>\n",
              "      <td>40.740215</td>\n",
              "      <td>1.0</td>\n",
              "      <td>0.571784</td>\n",
              "      <td>20</td>\n",
              "      <td>Tuesday</td>\n",
              "      <td>Evening</td>\n",
              "      <td>2</td>\n",
              "      <td>2015</td>\n",
              "      <td>1.830551</td>\n",
              "    </tr>\n",
              "    <tr>\n",
              "      <th>62523</th>\n",
              "      <td>10.5</td>\n",
              "      <td>2012-02-02 05:57:00+00:00</td>\n",
              "      <td>-73.949597</td>\n",
              "      <td>40.782017</td>\n",
              "      <td>-73.984855</td>\n",
              "      <td>40.747992</td>\n",
              "      <td>1.0</td>\n",
              "      <td>3.188062</td>\n",
              "      <td>5</td>\n",
              "      <td>Thursday</td>\n",
              "      <td>Morning</td>\n",
              "      <td>2</td>\n",
              "      <td>2012</td>\n",
              "      <td>4.809505</td>\n",
              "    </tr>\n",
              "    <tr>\n",
              "      <th>62524</th>\n",
              "      <td>4.0</td>\n",
              "      <td>2015-01-26 17:34:42+00:00</td>\n",
              "      <td>-73.949532</td>\n",
              "      <td>40.802330</td>\n",
              "      <td>-73.943878</td>\n",
              "      <td>40.799492</td>\n",
              "      <td>1.0</td>\n",
              "      <td>NaN</td>\n",
              "      <td>17</td>\n",
              "      <td>Monday</td>\n",
              "      <td>Afternoon</td>\n",
              "      <td>1</td>\n",
              "      <td>2015</td>\n",
              "      <td>0.570998</td>\n",
              "    </tr>\n",
              "    <tr>\n",
              "      <th>62525</th>\n",
              "      <td>7.7</td>\n",
              "      <td>2009-03-19 09:23:02+00:00</td>\n",
              "      <td>-73.951052</td>\n",
              "      <td>40.785781</td>\n",
              "      <td>-73.965221</td>\n",
              "      <td>40.759170</td>\n",
              "      <td>1.0</td>\n",
              "      <td>NaN</td>\n",
              "      <td>9</td>\n",
              "      <td>Thursday</td>\n",
              "      <td>Morning</td>\n",
              "      <td>3</td>\n",
              "      <td>2009</td>\n",
              "      <td>3.190509</td>\n",
              "    </tr>\n",
              "  </tbody>\n",
              "</table>\n",
              "<p>62524 rows × 14 columns</p>\n",
              "</div>\n",
              "      <button class=\"colab-df-convert\" onclick=\"convertToInteractive('df-1120160b-c5ec-41b0-8112-d7b7cf345412')\"\n",
              "              title=\"Convert this dataframe to an interactive table.\"\n",
              "              style=\"display:none;\">\n",
              "        \n",
              "  <svg xmlns=\"http://www.w3.org/2000/svg\" height=\"24px\"viewBox=\"0 0 24 24\"\n",
              "       width=\"24px\">\n",
              "    <path d=\"M0 0h24v24H0V0z\" fill=\"none\"/>\n",
              "    <path d=\"M18.56 5.44l.94 2.06.94-2.06 2.06-.94-2.06-.94-.94-2.06-.94 2.06-2.06.94zm-11 1L8.5 8.5l.94-2.06 2.06-.94-2.06-.94L8.5 2.5l-.94 2.06-2.06.94zm10 10l.94 2.06.94-2.06 2.06-.94-2.06-.94-.94-2.06-.94 2.06-2.06.94z\"/><path d=\"M17.41 7.96l-1.37-1.37c-.4-.4-.92-.59-1.43-.59-.52 0-1.04.2-1.43.59L10.3 9.45l-7.72 7.72c-.78.78-.78 2.05 0 2.83L4 21.41c.39.39.9.59 1.41.59.51 0 1.02-.2 1.41-.59l7.78-7.78 2.81-2.81c.8-.78.8-2.07 0-2.86zM5.41 20L4 18.59l7.72-7.72 1.47 1.35L5.41 20z\"/>\n",
              "  </svg>\n",
              "      </button>\n",
              "      \n",
              "  <style>\n",
              "    .colab-df-container {\n",
              "      display:flex;\n",
              "      flex-wrap:wrap;\n",
              "      gap: 12px;\n",
              "    }\n",
              "\n",
              "    .colab-df-convert {\n",
              "      background-color: #E8F0FE;\n",
              "      border: none;\n",
              "      border-radius: 50%;\n",
              "      cursor: pointer;\n",
              "      display: none;\n",
              "      fill: #1967D2;\n",
              "      height: 32px;\n",
              "      padding: 0 0 0 0;\n",
              "      width: 32px;\n",
              "    }\n",
              "\n",
              "    .colab-df-convert:hover {\n",
              "      background-color: #E2EBFA;\n",
              "      box-shadow: 0px 1px 2px rgba(60, 64, 67, 0.3), 0px 1px 3px 1px rgba(60, 64, 67, 0.15);\n",
              "      fill: #174EA6;\n",
              "    }\n",
              "\n",
              "    [theme=dark] .colab-df-convert {\n",
              "      background-color: #3B4455;\n",
              "      fill: #D2E3FC;\n",
              "    }\n",
              "\n",
              "    [theme=dark] .colab-df-convert:hover {\n",
              "      background-color: #434B5C;\n",
              "      box-shadow: 0px 1px 3px 1px rgba(0, 0, 0, 0.15);\n",
              "      filter: drop-shadow(0px 1px 2px rgba(0, 0, 0, 0.3));\n",
              "      fill: #FFFFFF;\n",
              "    }\n",
              "  </style>\n",
              "\n",
              "      <script>\n",
              "        const buttonEl =\n",
              "          document.querySelector('#df-1120160b-c5ec-41b0-8112-d7b7cf345412 button.colab-df-convert');\n",
              "        buttonEl.style.display =\n",
              "          google.colab.kernel.accessAllowed ? 'block' : 'none';\n",
              "\n",
              "        async function convertToInteractive(key) {\n",
              "          const element = document.querySelector('#df-1120160b-c5ec-41b0-8112-d7b7cf345412');\n",
              "          const dataTable =\n",
              "            await google.colab.kernel.invokeFunction('convertToInteractive',\n",
              "                                                     [key], {});\n",
              "          if (!dataTable) return;\n",
              "\n",
              "          const docLinkHtml = 'Like what you see? Visit the ' +\n",
              "            '<a target=\"_blank\" href=https://colab.research.google.com/notebooks/data_table.ipynb>data table notebook</a>'\n",
              "            + ' to learn more about interactive tables.';\n",
              "          element.innerHTML = '';\n",
              "          dataTable['output_type'] = 'display_data';\n",
              "          await google.colab.output.renderOutput(dataTable, element);\n",
              "          const docLink = document.createElement('div');\n",
              "          docLink.innerHTML = docLinkHtml;\n",
              "          element.appendChild(docLink);\n",
              "        }\n",
              "      </script>\n",
              "    </div>\n",
              "  </div>\n",
              "  "
            ]
          },
          "metadata": {},
          "execution_count": 19
        }
      ]
    },
    {
      "cell_type": "markdown",
      "source": [
        "Doing EDA"
      ],
      "metadata": {
        "id": "dn18xT6F4VJa"
      }
    },
    {
      "cell_type": "code",
      "source": [
        "df.describe()"
      ],
      "metadata": {
        "execution": {
          "iopub.status.busy": "2023-05-20T14:43:10.386775Z",
          "iopub.execute_input": "2023-05-20T14:43:10.387186Z",
          "iopub.status.idle": "2023-05-20T14:43:10.538489Z",
          "shell.execute_reply.started": "2023-05-20T14:43:10.387149Z",
          "shell.execute_reply": "2023-05-20T14:43:10.537192Z"
        },
        "trusted": true,
        "colab": {
          "base_uri": "https://localhost:8080/",
          "height": 381
        },
        "id": "zDfmXLGr4VJa",
        "outputId": "09faf049-97da-4ddd-c76a-d75299b4e887"
      },
      "execution_count": null,
      "outputs": [
        {
          "output_type": "execute_result",
          "data": {
            "text/plain": [
              "        fare_amount  pickup_longitude  pickup_latitude  dropoff_longitude  \\\n",
              "count  62524.000000      62524.000000     62524.000000       62524.000000   \n",
              "mean      11.429363        -72.538873        39.926078         -72.550277   \n",
              "std       10.037125         11.074031         6.138764          10.664017   \n",
              "min        0.000000       -748.016667       -74.015515        -737.916665   \n",
              "25%        6.000000        -73.992086        40.734735         -73.991462   \n",
              "50%        8.500000        -73.981831        40.752491         -73.980125   \n",
              "75%       12.712500        -73.967175        40.767112         -73.963705   \n",
              "max      350.000000         40.808425        45.031653          40.828377   \n",
              "\n",
              "       dropoff_latitude  passenger_count  Distances in kms  pickup_timehour  \\\n",
              "count      62524.000000     62524.000000      62522.000000     62524.000000   \n",
              "mean          39.934647         1.676780         21.641812        13.463806   \n",
              "std            6.111773         1.296607        390.248614         6.532341   \n",
              "min          -74.008745         0.000000          0.000000         0.000000   \n",
              "25%           40.733613         1.000000          1.222297         9.000000   \n",
              "50%           40.752942         1.000000          2.132134        14.000000   \n",
              "75%           40.768169         2.000000          3.902804        19.000000   \n",
              "max           45.031598         6.000000       8776.815279        23.000000   \n",
              "\n",
              "       pickup_month   pickup_year  distance_travelled (KM)  \n",
              "count  62524.000000  62524.000000             62524.000000  \n",
              "mean       6.272183   2011.745554                21.635960  \n",
              "std        3.440878      1.860251               390.173296  \n",
              "min        1.000000   2009.000000                 0.000000  \n",
              "25%        3.000000   2010.000000                 1.221893  \n",
              "50%        6.000000   2012.000000                 2.131594  \n",
              "75%        9.000000   2013.000000                 3.904394  \n",
              "max       12.000000   2015.000000              8776.106279  "
            ],
            "text/html": [
              "\n",
              "  <div id=\"df-fe7f3c0e-1c87-45b7-948c-d81527d80541\">\n",
              "    <div class=\"colab-df-container\">\n",
              "      <div>\n",
              "<style scoped>\n",
              "    .dataframe tbody tr th:only-of-type {\n",
              "        vertical-align: middle;\n",
              "    }\n",
              "\n",
              "    .dataframe tbody tr th {\n",
              "        vertical-align: top;\n",
              "    }\n",
              "\n",
              "    .dataframe thead th {\n",
              "        text-align: right;\n",
              "    }\n",
              "</style>\n",
              "<table border=\"1\" class=\"dataframe\">\n",
              "  <thead>\n",
              "    <tr style=\"text-align: right;\">\n",
              "      <th></th>\n",
              "      <th>fare_amount</th>\n",
              "      <th>pickup_longitude</th>\n",
              "      <th>pickup_latitude</th>\n",
              "      <th>dropoff_longitude</th>\n",
              "      <th>dropoff_latitude</th>\n",
              "      <th>passenger_count</th>\n",
              "      <th>Distances in kms</th>\n",
              "      <th>pickup_timehour</th>\n",
              "      <th>pickup_month</th>\n",
              "      <th>pickup_year</th>\n",
              "      <th>distance_travelled (KM)</th>\n",
              "    </tr>\n",
              "  </thead>\n",
              "  <tbody>\n",
              "    <tr>\n",
              "      <th>count</th>\n",
              "      <td>62524.000000</td>\n",
              "      <td>62524.000000</td>\n",
              "      <td>62524.000000</td>\n",
              "      <td>62524.000000</td>\n",
              "      <td>62524.000000</td>\n",
              "      <td>62524.000000</td>\n",
              "      <td>62522.000000</td>\n",
              "      <td>62524.000000</td>\n",
              "      <td>62524.000000</td>\n",
              "      <td>62524.000000</td>\n",
              "      <td>62524.000000</td>\n",
              "    </tr>\n",
              "    <tr>\n",
              "      <th>mean</th>\n",
              "      <td>11.429363</td>\n",
              "      <td>-72.538873</td>\n",
              "      <td>39.926078</td>\n",
              "      <td>-72.550277</td>\n",
              "      <td>39.934647</td>\n",
              "      <td>1.676780</td>\n",
              "      <td>21.641812</td>\n",
              "      <td>13.463806</td>\n",
              "      <td>6.272183</td>\n",
              "      <td>2011.745554</td>\n",
              "      <td>21.635960</td>\n",
              "    </tr>\n",
              "    <tr>\n",
              "      <th>std</th>\n",
              "      <td>10.037125</td>\n",
              "      <td>11.074031</td>\n",
              "      <td>6.138764</td>\n",
              "      <td>10.664017</td>\n",
              "      <td>6.111773</td>\n",
              "      <td>1.296607</td>\n",
              "      <td>390.248614</td>\n",
              "      <td>6.532341</td>\n",
              "      <td>3.440878</td>\n",
              "      <td>1.860251</td>\n",
              "      <td>390.173296</td>\n",
              "    </tr>\n",
              "    <tr>\n",
              "      <th>min</th>\n",
              "      <td>0.000000</td>\n",
              "      <td>-748.016667</td>\n",
              "      <td>-74.015515</td>\n",
              "      <td>-737.916665</td>\n",
              "      <td>-74.008745</td>\n",
              "      <td>0.000000</td>\n",
              "      <td>0.000000</td>\n",
              "      <td>0.000000</td>\n",
              "      <td>1.000000</td>\n",
              "      <td>2009.000000</td>\n",
              "      <td>0.000000</td>\n",
              "    </tr>\n",
              "    <tr>\n",
              "      <th>25%</th>\n",
              "      <td>6.000000</td>\n",
              "      <td>-73.992086</td>\n",
              "      <td>40.734735</td>\n",
              "      <td>-73.991462</td>\n",
              "      <td>40.733613</td>\n",
              "      <td>1.000000</td>\n",
              "      <td>1.222297</td>\n",
              "      <td>9.000000</td>\n",
              "      <td>3.000000</td>\n",
              "      <td>2010.000000</td>\n",
              "      <td>1.221893</td>\n",
              "    </tr>\n",
              "    <tr>\n",
              "      <th>50%</th>\n",
              "      <td>8.500000</td>\n",
              "      <td>-73.981831</td>\n",
              "      <td>40.752491</td>\n",
              "      <td>-73.980125</td>\n",
              "      <td>40.752942</td>\n",
              "      <td>1.000000</td>\n",
              "      <td>2.132134</td>\n",
              "      <td>14.000000</td>\n",
              "      <td>6.000000</td>\n",
              "      <td>2012.000000</td>\n",
              "      <td>2.131594</td>\n",
              "    </tr>\n",
              "    <tr>\n",
              "      <th>75%</th>\n",
              "      <td>12.712500</td>\n",
              "      <td>-73.967175</td>\n",
              "      <td>40.767112</td>\n",
              "      <td>-73.963705</td>\n",
              "      <td>40.768169</td>\n",
              "      <td>2.000000</td>\n",
              "      <td>3.902804</td>\n",
              "      <td>19.000000</td>\n",
              "      <td>9.000000</td>\n",
              "      <td>2013.000000</td>\n",
              "      <td>3.904394</td>\n",
              "    </tr>\n",
              "    <tr>\n",
              "      <th>max</th>\n",
              "      <td>350.000000</td>\n",
              "      <td>40.808425</td>\n",
              "      <td>45.031653</td>\n",
              "      <td>40.828377</td>\n",
              "      <td>45.031598</td>\n",
              "      <td>6.000000</td>\n",
              "      <td>8776.815279</td>\n",
              "      <td>23.000000</td>\n",
              "      <td>12.000000</td>\n",
              "      <td>2015.000000</td>\n",
              "      <td>8776.106279</td>\n",
              "    </tr>\n",
              "  </tbody>\n",
              "</table>\n",
              "</div>\n",
              "      <button class=\"colab-df-convert\" onclick=\"convertToInteractive('df-fe7f3c0e-1c87-45b7-948c-d81527d80541')\"\n",
              "              title=\"Convert this dataframe to an interactive table.\"\n",
              "              style=\"display:none;\">\n",
              "        \n",
              "  <svg xmlns=\"http://www.w3.org/2000/svg\" height=\"24px\"viewBox=\"0 0 24 24\"\n",
              "       width=\"24px\">\n",
              "    <path d=\"M0 0h24v24H0V0z\" fill=\"none\"/>\n",
              "    <path d=\"M18.56 5.44l.94 2.06.94-2.06 2.06-.94-2.06-.94-.94-2.06-.94 2.06-2.06.94zm-11 1L8.5 8.5l.94-2.06 2.06-.94-2.06-.94L8.5 2.5l-.94 2.06-2.06.94zm10 10l.94 2.06.94-2.06 2.06-.94-2.06-.94-.94-2.06-.94 2.06-2.06.94z\"/><path d=\"M17.41 7.96l-1.37-1.37c-.4-.4-.92-.59-1.43-.59-.52 0-1.04.2-1.43.59L10.3 9.45l-7.72 7.72c-.78.78-.78 2.05 0 2.83L4 21.41c.39.39.9.59 1.41.59.51 0 1.02-.2 1.41-.59l7.78-7.78 2.81-2.81c.8-.78.8-2.07 0-2.86zM5.41 20L4 18.59l7.72-7.72 1.47 1.35L5.41 20z\"/>\n",
              "  </svg>\n",
              "      </button>\n",
              "      \n",
              "  <style>\n",
              "    .colab-df-container {\n",
              "      display:flex;\n",
              "      flex-wrap:wrap;\n",
              "      gap: 12px;\n",
              "    }\n",
              "\n",
              "    .colab-df-convert {\n",
              "      background-color: #E8F0FE;\n",
              "      border: none;\n",
              "      border-radius: 50%;\n",
              "      cursor: pointer;\n",
              "      display: none;\n",
              "      fill: #1967D2;\n",
              "      height: 32px;\n",
              "      padding: 0 0 0 0;\n",
              "      width: 32px;\n",
              "    }\n",
              "\n",
              "    .colab-df-convert:hover {\n",
              "      background-color: #E2EBFA;\n",
              "      box-shadow: 0px 1px 2px rgba(60, 64, 67, 0.3), 0px 1px 3px 1px rgba(60, 64, 67, 0.15);\n",
              "      fill: #174EA6;\n",
              "    }\n",
              "\n",
              "    [theme=dark] .colab-df-convert {\n",
              "      background-color: #3B4455;\n",
              "      fill: #D2E3FC;\n",
              "    }\n",
              "\n",
              "    [theme=dark] .colab-df-convert:hover {\n",
              "      background-color: #434B5C;\n",
              "      box-shadow: 0px 1px 3px 1px rgba(0, 0, 0, 0.15);\n",
              "      filter: drop-shadow(0px 1px 2px rgba(0, 0, 0, 0.3));\n",
              "      fill: #FFFFFF;\n",
              "    }\n",
              "  </style>\n",
              "\n",
              "      <script>\n",
              "        const buttonEl =\n",
              "          document.querySelector('#df-fe7f3c0e-1c87-45b7-948c-d81527d80541 button.colab-df-convert');\n",
              "        buttonEl.style.display =\n",
              "          google.colab.kernel.accessAllowed ? 'block' : 'none';\n",
              "\n",
              "        async function convertToInteractive(key) {\n",
              "          const element = document.querySelector('#df-fe7f3c0e-1c87-45b7-948c-d81527d80541');\n",
              "          const dataTable =\n",
              "            await google.colab.kernel.invokeFunction('convertToInteractive',\n",
              "                                                     [key], {});\n",
              "          if (!dataTable) return;\n",
              "\n",
              "          const docLinkHtml = 'Like what you see? Visit the ' +\n",
              "            '<a target=\"_blank\" href=https://colab.research.google.com/notebooks/data_table.ipynb>data table notebook</a>'\n",
              "            + ' to learn more about interactive tables.';\n",
              "          element.innerHTML = '';\n",
              "          dataTable['output_type'] = 'display_data';\n",
              "          await google.colab.output.renderOutput(dataTable, element);\n",
              "          const docLink = document.createElement('div');\n",
              "          docLink.innerHTML = docLinkHtml;\n",
              "          element.appendChild(docLink);\n",
              "        }\n",
              "      </script>\n",
              "    </div>\n",
              "  </div>\n",
              "  "
            ]
          },
          "metadata": {},
          "execution_count": 20
        }
      ]
    },
    {
      "cell_type": "code",
      "source": [
        "#remove the latitude and longitude ===000, passenger_count=0, fare<=0\n",
        "\n",
        "df=df[~((df['pickup_latitude']==0.000000)&(df['pickup_longitude']==0.000000))]\n",
        "print(f'After dropping the data, the final shape is {df.shape}')"
      ],
      "metadata": {
        "execution": {
          "iopub.status.busy": "2023-05-20T14:43:16.324811Z",
          "iopub.execute_input": "2023-05-20T14:43:16.325259Z",
          "iopub.status.idle": "2023-05-20T14:43:16.355304Z",
          "shell.execute_reply.started": "2023-05-20T14:43:16.325216Z",
          "shell.execute_reply": "2023-05-20T14:43:16.354316Z"
        },
        "trusted": true,
        "colab": {
          "base_uri": "https://localhost:8080/"
        },
        "id": "_m_eTbzy4VJa",
        "outputId": "ae3a4e06-df78-450a-f625-491b68df112e"
      },
      "execution_count": null,
      "outputs": [
        {
          "output_type": "stream",
          "name": "stdout",
          "text": [
            "After dropping the data, the final shape is (61365, 14)\n"
          ]
        }
      ]
    },
    {
      "cell_type": "code",
      "source": [
        "df=df[~(df['fare_amount']<=0)]\n",
        "df=df[~(df['passenger_count']==0)]\n",
        "print(f'After dropping the data, the final shape is {df.shape}')"
      ],
      "metadata": {
        "execution": {
          "iopub.status.busy": "2023-05-20T14:43:19.556317Z",
          "iopub.execute_input": "2023-05-20T14:43:19.556731Z",
          "iopub.status.idle": "2023-05-20T14:43:19.601654Z",
          "shell.execute_reply.started": "2023-05-20T14:43:19.556702Z",
          "shell.execute_reply": "2023-05-20T14:43:19.599392Z"
        },
        "trusted": true,
        "colab": {
          "base_uri": "https://localhost:8080/"
        },
        "id": "MC4G7zmg4VJb",
        "outputId": "e076ab0b-7901-4f7b-f757-b81732fb79ef"
      },
      "execution_count": null,
      "outputs": [
        {
          "output_type": "stream",
          "name": "stdout",
          "text": [
            "After dropping the data, the final shape is (61145, 14)\n"
          ]
        }
      ]
    },
    {
      "cell_type": "code",
      "source": [
        "df=df[~(df['passenger_count']==208)]\n",
        "print(f'After dropping the data, the final shape is {df.shape}')"
      ],
      "metadata": {
        "execution": {
          "iopub.status.busy": "2023-05-20T14:43:22.910906Z",
          "iopub.execute_input": "2023-05-20T14:43:22.911737Z",
          "iopub.status.idle": "2023-05-20T14:43:22.932443Z",
          "shell.execute_reply.started": "2023-05-20T14:43:22.911694Z",
          "shell.execute_reply": "2023-05-20T14:43:22.931221Z"
        },
        "trusted": true,
        "colab": {
          "base_uri": "https://localhost:8080/"
        },
        "id": "9rK67BzT4VJb",
        "outputId": "e011a88c-73a6-4da7-ea9e-488f49bb42bc"
      },
      "execution_count": null,
      "outputs": [
        {
          "output_type": "stream",
          "name": "stdout",
          "text": [
            "After dropping the data, the final shape is (61145, 14)\n"
          ]
        }
      ]
    },
    {
      "cell_type": "code",
      "source": [
        "sns.boxplot(x=df['Distances in kms'])"
      ],
      "metadata": {
        "execution": {
          "iopub.status.busy": "2023-05-20T14:43:29.239277Z",
          "iopub.execute_input": "2023-05-20T14:43:29.23967Z",
          "iopub.status.idle": "2023-05-20T14:43:29.506459Z",
          "shell.execute_reply.started": "2023-05-20T14:43:29.239641Z",
          "shell.execute_reply": "2023-05-20T14:43:29.505225Z"
        },
        "trusted": true,
        "colab": {
          "base_uri": "https://localhost:8080/",
          "height": 466
        },
        "id": "yNtIkTVO4VJc",
        "outputId": "8209e013-c207-4ca8-8fd4-258e127861dc"
      },
      "execution_count": null,
      "outputs": [
        {
          "output_type": "execute_result",
          "data": {
            "text/plain": [
              "<Axes: xlabel='Distances in kms'>"
            ]
          },
          "metadata": {},
          "execution_count": 24
        },
        {
          "output_type": "display_data",
          "data": {
            "text/plain": [
              "<Figure size 640x480 with 1 Axes>"
            ],
            "image/png": "[encoded data removed]"
          },
          "metadata": {}
        }
      ]
    },
    {
      "cell_type": "code",
      "source": [
        "#let's put a threshold for distance above 500 km as not possible\n",
        "df= df[df['Distances in kms']<=50]"
      ],
      "metadata": {
        "execution": {
          "iopub.status.busy": "2023-05-20T14:43:34.286723Z",
          "iopub.execute_input": "2023-05-20T14:43:34.287203Z",
          "iopub.status.idle": "2023-05-20T14:43:34.308448Z",
          "shell.execute_reply.started": "2023-05-20T14:43:34.287166Z",
          "shell.execute_reply": "2023-05-20T14:43:34.307535Z"
        },
        "trusted": true,
        "id": "_yPV-8xQ4VJc"
      },
      "execution_count": null,
      "outputs": []
    },
    {
      "cell_type": "code",
      "source": [
        "plt.scatter(df['Distances in kms'],df['fare_amount'])\n",
        "plt.xlabel('Distances')\n",
        "plt.ylabel('Fare Amount')\n",
        "plt.show()"
      ],
      "metadata": {
        "execution": {
          "iopub.status.busy": "2023-05-20T14:43:41.581084Z",
          "iopub.execute_input": "2023-05-20T14:43:41.581542Z",
          "iopub.status.idle": "2023-05-20T14:43:42.226651Z",
          "shell.execute_reply.started": "2023-05-20T14:43:41.581506Z",
          "shell.execute_reply": "2023-05-20T14:43:42.22553Z"
        },
        "trusted": true,
        "colab": {
          "base_uri": "https://localhost:8080/",
          "height": 449
        },
        "id": "jT1YwBGL4VJc",
        "outputId": "c7b7abb3-caee-4a2a-a8cc-39eba8bae862"
      },
      "execution_count": null,
      "outputs": [
        {
          "output_type": "display_data",
          "data": {
            "text/plain": [
              "<Figure size 640x480 with 1 Axes>"
            ],
            "image/png": "[encoded data removed]"
          },
          "metadata": {}
        }
      ]
    },
    {
      "cell_type": "markdown",
      "source": [
        "Plot becomes much easier to understand."
      ],
      "metadata": {
        "id": "Zl1VDC0z4VJc"
      }
    },
    {
      "cell_type": "code",
      "source": [
        "#day wise study\n",
        "plt.figure(figsize=(20,8))\n",
        "sns.histplot(df['Day'])\n",
        "plt.ylabel('Trip Count')\n",
        "plt.title('Day vs Trip count')\n",
        "plt.show()"
      ],
      "metadata": {
        "execution": {
          "iopub.status.busy": "2023-05-20T14:43:52.768221Z",
          "iopub.execute_input": "2023-05-20T14:43:52.768788Z",
          "iopub.status.idle": "2023-05-20T14:43:53.779875Z",
          "shell.execute_reply.started": "2023-05-20T14:43:52.768744Z",
          "shell.execute_reply": "2023-05-20T14:43:53.77873Z"
        },
        "trusted": true,
        "colab": {
          "base_uri": "https://localhost:8080/",
          "height": 514
        },
        "id": "Hr3ouEbe4VJc",
        "outputId": "a7f52e46-f41b-409b-9fac-1eb65b34cc41"
      },
      "execution_count": null,
      "outputs": [
        {
          "output_type": "display_data",
          "data": {
            "text/plain": [
              "<Figure size 2000x800 with 1 Axes>"
            ],
            "image/png": "[encoded data removed]"
          },
          "metadata": {}
        }
      ]
    },
    {
      "cell_type": "markdown",
      "source": [
        "**Insight**\n",
        "`Uber has more trips on friday and lowest on monday.`"
      ],
      "metadata": {
        "id": "bsfgfS1p4VJd"
      }
    },
    {
      "cell_type": "code",
      "source": [
        "#month wise fare study\n",
        "plt.figure(figsize=(12,20))\n",
        "plt.title('Month wise fare amount')\n",
        "sns.barplot(x=df['pickup_month'],y=df['fare_amount'],estimator=sum)\n",
        "plt.xlabel('Month')\n",
        "plt.ylabel('fare amount')\n",
        "plt.show()"
      ],
      "metadata": {
        "execution": {
          "iopub.status.busy": "2023-05-20T14:43:58.299972Z",
          "iopub.execute_input": "2023-05-20T14:43:58.300418Z",
          "iopub.status.idle": "2023-05-20T14:44:42.301649Z",
          "shell.execute_reply.started": "2023-05-20T14:43:58.300383Z",
          "shell.execute_reply": "2023-05-20T14:44:42.300168Z"
        },
        "trusted": true,
        "colab": {
          "base_uri": "https://localhost:8080/",
          "height": 1000
        },
        "id": "ZZH_1iWu4VJd",
        "outputId": "6fe38dbc-ebbc-4e4f-ef1c-ad0142c34564"
      },
      "execution_count": null,
      "outputs": [
        {
          "output_type": "display_data",
          "data": {
            "text/plain": [
              "<Figure size 1200x2000 with 1 Axes>"
            ],
            "image/png": "[encoded data removed]"
          },
          "metadata": {}
        }
      ]
    },
    {
      "cell_type": "markdown",
      "source": [
        "Feature Selection"
      ],
      "metadata": {
        "id": "YDN3Vhm84VJd"
      }
    },
    {
      "cell_type": "code",
      "source": [
        "df1 = df.copy()"
      ],
      "metadata": {
        "execution": {
          "iopub.status.busy": "2023-05-20T14:45:19.581801Z",
          "iopub.execute_input": "2023-05-20T14:45:19.582228Z",
          "iopub.status.idle": "2023-05-20T14:45:19.596521Z",
          "shell.execute_reply.started": "2023-05-20T14:45:19.582195Z",
          "shell.execute_reply": "2023-05-20T14:45:19.595207Z"
        },
        "trusted": true,
        "id": "ao8qKVRM4VJd"
      },
      "execution_count": null,
      "outputs": []
    },
    {
      "cell_type": "code",
      "source": [
        "X= df.drop(['pickup_datetime','pickup_longitude','pickup_latitude','dropoff_longitude','dropoff_latitude','pickup_timehour','fare_amount'],axis=1)\n",
        "y = df['fare_amount']"
      ],
      "metadata": {
        "execution": {
          "iopub.status.busy": "2023-05-20T14:45:23.056639Z",
          "iopub.execute_input": "2023-05-20T14:45:23.057046Z",
          "iopub.status.idle": "2023-05-20T14:45:23.074587Z",
          "shell.execute_reply.started": "2023-05-20T14:45:23.057016Z",
          "shell.execute_reply": "2023-05-20T14:45:23.073616Z"
        },
        "trusted": true,
        "id": "s-VMQDr94VJd"
      },
      "execution_count": null,
      "outputs": []
    },
    {
      "cell_type": "code",
      "source": [
        "df_temp= pd.get_dummies(df[['Day','Day Part']],drop_first=True)\n",
        "df = pd.concat([df,df_temp],axis=1)\n",
        "df.head()"
      ],
      "metadata": {
        "execution": {
          "iopub.status.busy": "2023-05-20T14:45:26.415184Z",
          "iopub.execute_input": "2023-05-20T14:45:26.416318Z",
          "iopub.status.idle": "2023-05-20T14:45:26.518031Z",
          "shell.execute_reply.started": "2023-05-20T14:45:26.416266Z",
          "shell.execute_reply": "2023-05-20T14:45:26.516886Z"
        },
        "trusted": true,
        "colab": {
          "base_uri": "https://localhost:8080/",
          "height": 403
        },
        "id": "-qBdLTUX4VJd",
        "outputId": "340916b3-bfae-4c0e-cedf-7c1feed5c696"
      },
      "execution_count": null,
      "outputs": [
        {
          "output_type": "execute_result",
          "data": {
            "text/plain": [
              "   fare_amount           pickup_datetime  pickup_longitude  pickup_latitude  \\\n",
              "0          7.5 2015-05-07 19:52:06+00:00        -73.999817        40.738354   \n",
              "1          7.7 2009-07-17 20:04:56+00:00        -73.994355        40.728225   \n",
              "2         12.9 2009-08-24 21:45:00+00:00        -74.005043        40.740770   \n",
              "3          5.3 2009-06-26 08:22:21+00:00        -73.976124        40.790844   \n",
              "4         16.0 2014-08-28 17:47:00+00:00        -73.925023        40.744085   \n",
              "\n",
              "   dropoff_longitude  dropoff_latitude  passenger_count  Distances in kms  \\\n",
              "0         -73.999512         40.723217              1.0          1.681111   \n",
              "1         -73.994710         40.750325              1.0          2.454363   \n",
              "2         -73.962565         40.772647              1.0          5.039603   \n",
              "3         -73.965316         40.803349              3.0          1.661442   \n",
              "4         -73.973082         40.761247              5.0          4.483730   \n",
              "\n",
              "   pickup_timehour       Day  ... distance_travelled (KM)  Day_Monday  \\\n",
              "0               19  Thursday  ...                1.683323           0   \n",
              "1               20    Friday  ...                2.457590           0   \n",
              "2               21    Monday  ...                5.036377           1   \n",
              "3                8    Friday  ...                1.661683           0   \n",
              "4               17  Thursday  ...                4.475450           0   \n",
              "\n",
              "   Day_Saturday  Day_Sunday  Day_Thursday  Day_Tuesday  Day_Wednesday  \\\n",
              "0             0           0             1            0              0   \n",
              "1             0           0             0            0              0   \n",
              "2             0           0             0            0              0   \n",
              "3             0           0             0            0              0   \n",
              "4             0           0             1            0              0   \n",
              "\n",
              "   Day Part_Evening  Day Part_Morning  Day Part_Night  \n",
              "0                 1                 0               0  \n",
              "1                 1                 0               0  \n",
              "2                 1                 0               0  \n",
              "3                 0                 1               0  \n",
              "4                 0                 0               0  \n",
              "\n",
              "[5 rows x 23 columns]"
            ],
            "text/html": [
              "\n",
              "  <div id=\"df-e1042f3f-b5e3-4461-941a-c6c58a2f0be5\">\n",
              "    <div class=\"colab-df-container\">\n",
              "      <div>\n",
              "<style scoped>\n",
              "    .dataframe tbody tr th:only-of-type {\n",
              "        vertical-align: middle;\n",
              "    }\n",
              "\n",
              "    .dataframe tbody tr th {\n",
              "        vertical-align: top;\n",
              "    }\n",
              "\n",
              "    .dataframe thead th {\n",
              "        text-align: right;\n",
              "    }\n",
              "</style>\n",
              "<table border=\"1\" class=\"dataframe\">\n",
              "  <thead>\n",
              "    <tr style=\"text-align: right;\">\n",
              "      <th></th>\n",
              "      <th>fare_amount</th>\n",
              "      <th>pickup_datetime</th>\n",
              "      <th>pickup_longitude</th>\n",
              "      <th>pickup_latitude</th>\n",
              "      <th>dropoff_longitude</th>\n",
              "      <th>dropoff_latitude</th>\n",
              "      <th>passenger_count</th>\n",
              "      <th>Distances in kms</th>\n",
              "      <th>pickup_timehour</th>\n",
              "      <th>Day</th>\n",
              "      <th>...</th>\n",
              "      <th>distance_travelled (KM)</th>\n",
              "      <th>Day_Monday</th>\n",
              "      <th>Day_Saturday</th>\n",
              "      <th>Day_Sunday</th>\n",
              "      <th>Day_Thursday</th>\n",
              "      <th>Day_Tuesday</th>\n",
              "      <th>Day_Wednesday</th>\n",
              "      <th>Day Part_Evening</th>\n",
              "      <th>Day Part_Morning</th>\n",
              "      <th>Day Part_Night</th>\n",
              "    </tr>\n",
              "  </thead>\n",
              "  <tbody>\n",
              "    <tr>\n",
              "      <th>0</th>\n",
              "      <td>7.5</td>\n",
              "      <td>2015-05-07 19:52:06+00:00</td>\n",
              "      <td>-73.999817</td>\n",
              "      <td>40.738354</td>\n",
              "      <td>-73.999512</td>\n",
              "      <td>40.723217</td>\n",
              "      <td>1.0</td>\n",
              "      <td>1.681111</td>\n",
              "      <td>19</td>\n",
              "      <td>Thursday</td>\n",
              "      <td>...</td>\n",
              "      <td>1.683323</td>\n",
              "      <td>0</td>\n",
              "      <td>0</td>\n",
              "      <td>0</td>\n",
              "      <td>1</td>\n",
              "      <td>0</td>\n",
              "      <td>0</td>\n",
              "      <td>1</td>\n",
              "      <td>0</td>\n",
              "      <td>0</td>\n",
              "    </tr>\n",
              "    <tr>\n",
              "      <th>1</th>\n",
              "      <td>7.7</td>\n",
              "      <td>2009-07-17 20:04:56+00:00</td>\n",
              "      <td>-73.994355</td>\n",
              "      <td>40.728225</td>\n",
              "      <td>-73.994710</td>\n",
              "      <td>40.750325</td>\n",
              "      <td>1.0</td>\n",
              "      <td>2.454363</td>\n",
              "      <td>20</td>\n",
              "      <td>Friday</td>\n",
              "      <td>...</td>\n",
              "      <td>2.457590</td>\n",
              "      <td>0</td>\n",
              "      <td>0</td>\n",
              "      <td>0</td>\n",
              "      <td>0</td>\n",
              "      <td>0</td>\n",
              "      <td>0</td>\n",
              "      <td>1</td>\n",
              "      <td>0</td>\n",
              "      <td>0</td>\n",
              "    </tr>\n",
              "    <tr>\n",
              "      <th>2</th>\n",
              "      <td>12.9</td>\n",
              "      <td>2009-08-24 21:45:00+00:00</td>\n",
              "      <td>-74.005043</td>\n",
              "      <td>40.740770</td>\n",
              "      <td>-73.962565</td>\n",
              "      <td>40.772647</td>\n",
              "      <td>1.0</td>\n",
              "      <td>5.039603</td>\n",
              "      <td>21</td>\n",
              "      <td>Monday</td>\n",
              "      <td>...</td>\n",
              "      <td>5.036377</td>\n",
              "      <td>1</td>\n",
              "      <td>0</td>\n",
              "      <td>0</td>\n",
              "      <td>0</td>\n",
              "      <td>0</td>\n",
              "      <td>0</td>\n",
              "      <td>1</td>\n",
              "      <td>0</td>\n",
              "      <td>0</td>\n",
              "    </tr>\n",
              "    <tr>\n",
              "      <th>3</th>\n",
              "      <td>5.3</td>\n",
              "      <td>2009-06-26 08:22:21+00:00</td>\n",
              "      <td>-73.976124</td>\n",
              "      <td>40.790844</td>\n",
              "      <td>-73.965316</td>\n",
              "      <td>40.803349</td>\n",
              "      <td>3.0</td>\n",
              "      <td>1.661442</td>\n",
              "      <td>8</td>\n",
              "      <td>Friday</td>\n",
              "      <td>...</td>\n",
              "      <td>1.661683</td>\n",
              "      <td>0</td>\n",
              "      <td>0</td>\n",
              "      <td>0</td>\n",
              "      <td>0</td>\n",
              "      <td>0</td>\n",
              "      <td>0</td>\n",
              "      <td>0</td>\n",
              "      <td>1</td>\n",
              "      <td>0</td>\n",
              "    </tr>\n",
              "    <tr>\n",
              "      <th>4</th>\n",
              "      <td>16.0</td>\n",
              "      <td>2014-08-28 17:47:00+00:00</td>\n",
              "      <td>-73.925023</td>\n",
              "      <td>40.744085</td>\n",
              "      <td>-73.973082</td>\n",
              "      <td>40.761247</td>\n",
              "      <td>5.0</td>\n",
              "      <td>4.483730</td>\n",
              "      <td>17</td>\n",
              "      <td>Thursday</td>\n",
              "      <td>...</td>\n",
              "      <td>4.475450</td>\n",
              "      <td>0</td>\n",
              "      <td>0</td>\n",
              "      <td>0</td>\n",
              "      <td>1</td>\n",
              "      <td>0</td>\n",
              "      <td>0</td>\n",
              "      <td>0</td>\n",
              "      <td>0</td>\n",
              "      <td>0</td>\n",
              "    </tr>\n",
              "  </tbody>\n",
              "</table>\n",
              "<p>5 rows × 23 columns</p>\n",
              "</div>\n",
              "      <button class=\"colab-df-convert\" onclick=\"convertToInteractive('df-e1042f3f-b5e3-4461-941a-c6c58a2f0be5')\"\n",
              "              title=\"Convert this dataframe to an interactive table.\"\n",
              "              style=\"display:none;\">\n",
              "        \n",
              "  <svg xmlns=\"http://www.w3.org/2000/svg\" height=\"24px\"viewBox=\"0 0 24 24\"\n",
              "       width=\"24px\">\n",
              "    <path d=\"M0 0h24v24H0V0z\" fill=\"none\"/>\n",
              "    <path d=\"M18.56 5.44l.94 2.06.94-2.06 2.06-.94-2.06-.94-.94-2.06-.94 2.06-2.06.94zm-11 1L8.5 8.5l.94-2.06 2.06-.94-2.06-.94L8.5 2.5l-.94 2.06-2.06.94zm10 10l.94 2.06.94-2.06 2.06-.94-2.06-.94-.94-2.06-.94 2.06-2.06.94z\"/><path d=\"M17.41 7.96l-1.37-1.37c-.4-.4-.92-.59-1.43-.59-.52 0-1.04.2-1.43.59L10.3 9.45l-7.72 7.72c-.78.78-.78 2.05 0 2.83L4 21.41c.39.39.9.59 1.41.59.51 0 1.02-.2 1.41-.59l7.78-7.78 2.81-2.81c.8-.78.8-2.07 0-2.86zM5.41 20L4 18.59l7.72-7.72 1.47 1.35L5.41 20z\"/>\n",
              "  </svg>\n",
              "      </button>\n",
              "      \n",
              "  <style>\n",
              "    .colab-df-container {\n",
              "      display:flex;\n",
              "      flex-wrap:wrap;\n",
              "      gap: 12px;\n",
              "    }\n",
              "\n",
              "    .colab-df-convert {\n",
              "      background-color: #E8F0FE;\n",
              "      border: none;\n",
              "      border-radius: 50%;\n",
              "      cursor: pointer;\n",
              "      display: none;\n",
              "      fill: #1967D2;\n",
              "      height: 32px;\n",
              "      padding: 0 0 0 0;\n",
              "      width: 32px;\n",
              "    }\n",
              "\n",
              "    .colab-df-convert:hover {\n",
              "      background-color: #E2EBFA;\n",
              "      box-shadow: 0px 1px 2px rgba(60, 64, 67, 0.3), 0px 1px 3px 1px rgba(60, 64, 67, 0.15);\n",
              "      fill: #174EA6;\n",
              "    }\n",
              "\n",
              "    [theme=dark] .colab-df-convert {\n",
              "      background-color: #3B4455;\n",
              "      fill: #D2E3FC;\n",
              "    }\n",
              "\n",
              "    [theme=dark] .colab-df-convert:hover {\n",
              "      background-color: #434B5C;\n",
              "      box-shadow: 0px 1px 3px 1px rgba(0, 0, 0, 0.15);\n",
              "      filter: drop-shadow(0px 1px 2px rgba(0, 0, 0, 0.3));\n",
              "      fill: #FFFFFF;\n",
              "    }\n",
              "  </style>\n",
              "\n",
              "      <script>\n",
              "        const buttonEl =\n",
              "          document.querySelector('#df-e1042f3f-b5e3-4461-941a-c6c58a2f0be5 button.colab-df-convert');\n",
              "        buttonEl.style.display =\n",
              "          google.colab.kernel.accessAllowed ? 'block' : 'none';\n",
              "\n",
              "        async function convertToInteractive(key) {\n",
              "          const element = document.querySelector('#df-e1042f3f-b5e3-4461-941a-c6c58a2f0be5');\n",
              "          const dataTable =\n",
              "            await google.colab.kernel.invokeFunction('convertToInteractive',\n",
              "                                                     [key], {});\n",
              "          if (!dataTable) return;\n",
              "\n",
              "          const docLinkHtml = 'Like what you see? Visit the ' +\n",
              "            '<a target=\"_blank\" href=https://colab.research.google.com/notebooks/data_table.ipynb>data table notebook</a>'\n",
              "            + ' to learn more about interactive tables.';\n",
              "          element.innerHTML = '';\n",
              "          dataTable['output_type'] = 'display_data';\n",
              "          await google.colab.output.renderOutput(dataTable, element);\n",
              "          const docLink = document.createElement('div');\n",
              "          docLink.innerHTML = docLinkHtml;\n",
              "          element.appendChild(docLink);\n",
              "        }\n",
              "      </script>\n",
              "    </div>\n",
              "  </div>\n",
              "  "
            ]
          },
          "metadata": {},
          "execution_count": 31
        }
      ]
    },
    {
      "cell_type": "code",
      "source": [
        "df.drop(['Day','Day Part'],axis=1,inplace=True)"
      ],
      "metadata": {
        "execution": {
          "iopub.status.busy": "2023-05-20T14:45:43.405424Z",
          "iopub.execute_input": "2023-05-20T14:45:43.405845Z",
          "iopub.status.idle": "2023-05-20T14:45:43.427266Z",
          "shell.execute_reply.started": "2023-05-20T14:45:43.405814Z",
          "shell.execute_reply": "2023-05-20T14:45:43.426073Z"
        },
        "trusted": true,
        "id": "9WyNu6Gk4VJe"
      },
      "execution_count": null,
      "outputs": []
    },
    {
      "cell_type": "code",
      "source": [
        "X= df.drop(['pickup_datetime','pickup_longitude','pickup_latitude','dropoff_longitude','dropoff_latitude','pickup_timehour','fare_amount'],axis=1)\n",
        "y = df['fare_amount']\n",
        "X_1=X.copy()"
      ],
      "metadata": {
        "execution": {
          "iopub.status.busy": "2023-05-20T14:46:21.101462Z",
          "iopub.execute_input": "2023-05-20T14:46:21.101866Z",
          "iopub.status.idle": "2023-05-20T14:46:21.133463Z",
          "shell.execute_reply.started": "2023-05-20T14:46:21.101835Z",
          "shell.execute_reply": "2023-05-20T14:46:21.132225Z"
        },
        "trusted": true,
        "id": "BA9762HW4VJe"
      },
      "execution_count": null,
      "outputs": []
    },
    {
      "cell_type": "code",
      "source": [
        "from sklearn.preprocessing import MinMaxScaler\n",
        "scaler=MinMaxScaler()"
      ],
      "metadata": {
        "execution": {
          "iopub.status.busy": "2023-05-20T14:51:40.825066Z",
          "iopub.execute_input": "2023-05-20T14:51:40.825521Z",
          "iopub.status.idle": "2023-05-20T14:51:40.912095Z",
          "shell.execute_reply.started": "2023-05-20T14:51:40.825485Z",
          "shell.execute_reply": "2023-05-20T14:51:40.910876Z"
        },
        "trusted": true,
        "id": "3TZhiKsg4VJf"
      },
      "execution_count": null,
      "outputs": []
    },
    {
      "cell_type": "code",
      "source": [
        "from sklearn.model_selection import train_test_split\n",
        "#X_1=sm.add_constant(X_1)\n",
        "X_train,X_test,y_train,y_test= train_test_split(X_1,y,test_size=0.3,random_state=100)\n",
        "X_train['Distances in kms']=scaler.fit_transform(X_train['Distances in kms'].values.reshape(-1,1))\n",
        "X_test['Distances in kms'] = scaler.transform(X_test['Distances in kms'].values.reshape(-1,1))"
      ],
      "metadata": {
        "execution": {
          "iopub.status.busy": "2023-05-20T14:52:33.311224Z",
          "iopub.execute_input": "2023-05-20T14:52:33.311609Z",
          "iopub.status.idle": "2023-05-20T14:52:33.460308Z",
          "shell.execute_reply.started": "2023-05-20T14:52:33.311579Z",
          "shell.execute_reply": "2023-05-20T14:52:33.459091Z"
        },
        "trusted": true,
        "id": "6ZwOCznE4VJf"
      },
      "execution_count": null,
      "outputs": []
    },
    {
      "cell_type": "code",
      "source": [
        "X_train.describe()"
      ],
      "metadata": {
        "execution": {
          "iopub.status.busy": "2023-05-20T14:52:47.751227Z",
          "iopub.execute_input": "2023-05-20T14:52:47.75163Z",
          "iopub.status.idle": "2023-05-20T14:52:47.851595Z",
          "shell.execute_reply.started": "2023-05-20T14:52:47.7516Z",
          "shell.execute_reply": "2023-05-20T14:52:47.850741Z"
        },
        "trusted": true,
        "colab": {
          "base_uri": "https://localhost:8080/",
          "height": 381
        },
        "id": "LPPyzPJR4VJf",
        "outputId": "34713eaf-ee5a-4a5c-855b-228be0c14ce2"
      },
      "execution_count": null,
      "outputs": [
        {
          "output_type": "execute_result",
          "data": {
            "text/plain": [
              "       passenger_count  Distances in kms  pickup_month   pickup_year  \\\n",
              "count     42730.000000      42730.000000  42730.000000  42730.000000   \n",
              "mean          1.678984          0.068326      6.271963   2011.739270   \n",
              "std           1.289386          0.073906      3.444122      1.866487   \n",
              "min           1.000000          0.000000      1.000000   2009.000000   \n",
              "25%           1.000000          0.025847      3.000000   2010.000000   \n",
              "50%           1.000000          0.044587      6.000000   2012.000000   \n",
              "75%           2.000000          0.080778      9.000000   2013.000000   \n",
              "max           6.000000          1.000000     12.000000   2015.000000   \n",
              "\n",
              "       distance_travelled (KM)    Day_Monday  Day_Saturday    Day_Sunday  \\\n",
              "count             42730.000000  42730.000000  42730.000000  42730.000000   \n",
              "mean                  4.549249      0.125532      0.152282      0.133185   \n",
              "std                  97.046883      0.331326      0.359298      0.339779   \n",
              "min                   0.000000      0.000000      0.000000      0.000000   \n",
              "25%                   1.260618      0.000000      0.000000      0.000000   \n",
              "50%                   2.172860      0.000000      0.000000      0.000000   \n",
              "75%                   3.943077      0.000000      0.000000      0.000000   \n",
              "max                8666.605002      1.000000      1.000000      1.000000   \n",
              "\n",
              "       Day_Thursday   Day_Tuesday  Day_Wednesday  Day Part_Evening  \\\n",
              "count  42730.000000  42730.000000   42730.000000      42730.000000   \n",
              "mean       0.146197      0.142546       0.147508          0.239363   \n",
              "std        0.353308      0.349614       0.354615          0.426700   \n",
              "min        0.000000      0.000000       0.000000          0.000000   \n",
              "25%        0.000000      0.000000       0.000000          0.000000   \n",
              "50%        0.000000      0.000000       0.000000          0.000000   \n",
              "75%        0.000000      0.000000       0.000000          0.000000   \n",
              "max        1.000000      1.000000       1.000000          1.000000   \n",
              "\n",
              "       Day Part_Morning  Day Part_Night  \n",
              "count      42730.000000    42730.000000  \n",
              "mean           0.299017        0.224971  \n",
              "std            0.457833        0.417568  \n",
              "min            0.000000        0.000000  \n",
              "25%            0.000000        0.000000  \n",
              "50%            0.000000        0.000000  \n",
              "75%            1.000000        0.000000  \n",
              "max            1.000000        1.000000  "
            ],
            "text/html": [
              "\n",
              "  <div id=\"df-495c599e-de94-4f32-9b15-3446245db112\">\n",
              "    <div class=\"colab-df-container\">\n",
              "      <div>\n",
              "<style scoped>\n",
              "    .dataframe tbody tr th:only-of-type {\n",
              "        vertical-align: middle;\n",
              "    }\n",
              "\n",
              "    .dataframe tbody tr th {\n",
              "        vertical-align: top;\n",
              "    }\n",
              "\n",
              "    .dataframe thead th {\n",
              "        text-align: right;\n",
              "    }\n",
              "</style>\n",
              "<table border=\"1\" class=\"dataframe\">\n",
              "  <thead>\n",
              "    <tr style=\"text-align: right;\">\n",
              "      <th></th>\n",
              "      <th>passenger_count</th>\n",
              "      <th>Distances in kms</th>\n",
              "      <th>pickup_month</th>\n",
              "      <th>pickup_year</th>\n",
              "      <th>distance_travelled (KM)</th>\n",
              "      <th>Day_Monday</th>\n",
              "      <th>Day_Saturday</th>\n",
              "      <th>Day_Sunday</th>\n",
              "      <th>Day_Thursday</th>\n",
              "      <th>Day_Tuesday</th>\n",
              "      <th>Day_Wednesday</th>\n",
              "      <th>Day Part_Evening</th>\n",
              "      <th>Day Part_Morning</th>\n",
              "      <th>Day Part_Night</th>\n",
              "    </tr>\n",
              "  </thead>\n",
              "  <tbody>\n",
              "    <tr>\n",
              "      <th>count</th>\n",
              "      <td>42730.000000</td>\n",
              "      <td>42730.000000</td>\n",
              "      <td>42730.000000</td>\n",
              "      <td>42730.000000</td>\n",
              "      <td>42730.000000</td>\n",
              "      <td>42730.000000</td>\n",
              "      <td>42730.000000</td>\n",
              "      <td>42730.000000</td>\n",
              "      <td>42730.000000</td>\n",
              "      <td>42730.000000</td>\n",
              "      <td>42730.000000</td>\n",
              "      <td>42730.000000</td>\n",
              "      <td>42730.000000</td>\n",
              "      <td>42730.000000</td>\n",
              "    </tr>\n",
              "    <tr>\n",
              "      <th>mean</th>\n",
              "      <td>1.678984</td>\n",
              "      <td>0.068326</td>\n",
              "      <td>6.271963</td>\n",
              "      <td>2011.739270</td>\n",
              "      <td>4.549249</td>\n",
              "      <td>0.125532</td>\n",
              "      <td>0.152282</td>\n",
              "      <td>0.133185</td>\n",
              "      <td>0.146197</td>\n",
              "      <td>0.142546</td>\n",
              "      <td>0.147508</td>\n",
              "      <td>0.239363</td>\n",
              "      <td>0.299017</td>\n",
              "      <td>0.224971</td>\n",
              "    </tr>\n",
              "    <tr>\n",
              "      <th>std</th>\n",
              "      <td>1.289386</td>\n",
              "      <td>0.073906</td>\n",
              "      <td>3.444122</td>\n",
              "      <td>1.866487</td>\n",
              "      <td>97.046883</td>\n",
              "      <td>0.331326</td>\n",
              "      <td>0.359298</td>\n",
              "      <td>0.339779</td>\n",
              "      <td>0.353308</td>\n",
              "      <td>0.349614</td>\n",
              "      <td>0.354615</td>\n",
              "      <td>0.426700</td>\n",
              "      <td>0.457833</td>\n",
              "      <td>0.417568</td>\n",
              "    </tr>\n",
              "    <tr>\n",
              "      <th>min</th>\n",
              "      <td>1.000000</td>\n",
              "      <td>0.000000</td>\n",
              "      <td>1.000000</td>\n",
              "      <td>2009.000000</td>\n",
              "      <td>0.000000</td>\n",
              "      <td>0.000000</td>\n",
              "      <td>0.000000</td>\n",
              "      <td>0.000000</td>\n",
              "      <td>0.000000</td>\n",
              "      <td>0.000000</td>\n",
              "      <td>0.000000</td>\n",
              "      <td>0.000000</td>\n",
              "      <td>0.000000</td>\n",
              "      <td>0.000000</td>\n",
              "    </tr>\n",
              "    <tr>\n",
              "      <th>25%</th>\n",
              "      <td>1.000000</td>\n",
              "      <td>0.025847</td>\n",
              "      <td>3.000000</td>\n",
              "      <td>2010.000000</td>\n",
              "      <td>1.260618</td>\n",
              "      <td>0.000000</td>\n",
              "      <td>0.000000</td>\n",
              "      <td>0.000000</td>\n",
              "      <td>0.000000</td>\n",
              "      <td>0.000000</td>\n",
              "      <td>0.000000</td>\n",
              "      <td>0.000000</td>\n",
              "      <td>0.000000</td>\n",
              "      <td>0.000000</td>\n",
              "    </tr>\n",
              "    <tr>\n",
              "      <th>50%</th>\n",
              "      <td>1.000000</td>\n",
              "      <td>0.044587</td>\n",
              "      <td>6.000000</td>\n",
              "      <td>2012.000000</td>\n",
              "      <td>2.172860</td>\n",
              "      <td>0.000000</td>\n",
              "      <td>0.000000</td>\n",
              "      <td>0.000000</td>\n",
              "      <td>0.000000</td>\n",
              "      <td>0.000000</td>\n",
              "      <td>0.000000</td>\n",
              "      <td>0.000000</td>\n",
              "      <td>0.000000</td>\n",
              "      <td>0.000000</td>\n",
              "    </tr>\n",
              "    <tr>\n",
              "      <th>75%</th>\n",
              "      <td>2.000000</td>\n",
              "      <td>0.080778</td>\n",
              "      <td>9.000000</td>\n",
              "      <td>2013.000000</td>\n",
              "      <td>3.943077</td>\n",
              "      <td>0.000000</td>\n",
              "      <td>0.000000</td>\n",
              "      <td>0.000000</td>\n",
              "      <td>0.000000</td>\n",
              "      <td>0.000000</td>\n",
              "      <td>0.000000</td>\n",
              "      <td>0.000000</td>\n",
              "      <td>1.000000</td>\n",
              "      <td>0.000000</td>\n",
              "    </tr>\n",
              "    <tr>\n",
              "      <th>max</th>\n",
              "      <td>6.000000</td>\n",
              "      <td>1.000000</td>\n",
              "      <td>12.000000</td>\n",
              "      <td>2015.000000</td>\n",
              "      <td>8666.605002</td>\n",
              "      <td>1.000000</td>\n",
              "      <td>1.000000</td>\n",
              "      <td>1.000000</td>\n",
              "      <td>1.000000</td>\n",
              "      <td>1.000000</td>\n",
              "      <td>1.000000</td>\n",
              "      <td>1.000000</td>\n",
              "      <td>1.000000</td>\n",
              "      <td>1.000000</td>\n",
              "    </tr>\n",
              "  </tbody>\n",
              "</table>\n",
              "</div>\n",
              "      <button class=\"colab-df-convert\" onclick=\"convertToInteractive('df-495c599e-de94-4f32-9b15-3446245db112')\"\n",
              "              title=\"Convert this dataframe to an interactive table.\"\n",
              "              style=\"display:none;\">\n",
              "        \n",
              "  <svg xmlns=\"http://www.w3.org/2000/svg\" height=\"24px\"viewBox=\"0 0 24 24\"\n",
              "       width=\"24px\">\n",
              "    <path d=\"M0 0h24v24H0V0z\" fill=\"none\"/>\n",
              "    <path d=\"M18.56 5.44l.94 2.06.94-2.06 2.06-.94-2.06-.94-.94-2.06-.94 2.06-2.06.94zm-11 1L8.5 8.5l.94-2.06 2.06-.94-2.06-.94L8.5 2.5l-.94 2.06-2.06.94zm10 10l.94 2.06.94-2.06 2.06-.94-2.06-.94-.94-2.06-.94 2.06-2.06.94z\"/><path d=\"M17.41 7.96l-1.37-1.37c-.4-.4-.92-.59-1.43-.59-.52 0-1.04.2-1.43.59L10.3 9.45l-7.72 7.72c-.78.78-.78 2.05 0 2.83L4 21.41c.39.39.9.59 1.41.59.51 0 1.02-.2 1.41-.59l7.78-7.78 2.81-2.81c.8-.78.8-2.07 0-2.86zM5.41 20L4 18.59l7.72-7.72 1.47 1.35L5.41 20z\"/>\n",
              "  </svg>\n",
              "      </button>\n",
              "      \n",
              "  <style>\n",
              "    .colab-df-container {\n",
              "      display:flex;\n",
              "      flex-wrap:wrap;\n",
              "      gap: 12px;\n",
              "    }\n",
              "\n",
              "    .colab-df-convert {\n",
              "      background-color: #E8F0FE;\n",
              "      border: none;\n",
              "      border-radius: 50%;\n",
              "      cursor: pointer;\n",
              "      display: none;\n",
              "      fill: #1967D2;\n",
              "      height: 32px;\n",
              "      padding: 0 0 0 0;\n",
              "      width: 32px;\n",
              "    }\n",
              "\n",
              "    .colab-df-convert:hover {\n",
              "      background-color: #E2EBFA;\n",
              "      box-shadow: 0px 1px 2px rgba(60, 64, 67, 0.3), 0px 1px 3px 1px rgba(60, 64, 67, 0.15);\n",
              "      fill: #174EA6;\n",
              "    }\n",
              "\n",
              "    [theme=dark] .colab-df-convert {\n",
              "      background-color: #3B4455;\n",
              "      fill: #D2E3FC;\n",
              "    }\n",
              "\n",
              "    [theme=dark] .colab-df-convert:hover {\n",
              "      background-color: #434B5C;\n",
              "      box-shadow: 0px 1px 3px 1px rgba(0, 0, 0, 0.15);\n",
              "      filter: drop-shadow(0px 1px 2px rgba(0, 0, 0, 0.3));\n",
              "      fill: #FFFFFF;\n",
              "    }\n",
              "  </style>\n",
              "\n",
              "      <script>\n",
              "        const buttonEl =\n",
              "          document.querySelector('#df-495c599e-de94-4f32-9b15-3446245db112 button.colab-df-convert');\n",
              "        buttonEl.style.display =\n",
              "          google.colab.kernel.accessAllowed ? 'block' : 'none';\n",
              "\n",
              "        async function convertToInteractive(key) {\n",
              "          const element = document.querySelector('#df-495c599e-de94-4f32-9b15-3446245db112');\n",
              "          const dataTable =\n",
              "            await google.colab.kernel.invokeFunction('convertToInteractive',\n",
              "                                                     [key], {});\n",
              "          if (!dataTable) return;\n",
              "\n",
              "          const docLinkHtml = 'Like what you see? Visit the ' +\n",
              "            '<a target=\"_blank\" href=https://colab.research.google.com/notebooks/data_table.ipynb>data table notebook</a>'\n",
              "            + ' to learn more about interactive tables.';\n",
              "          element.innerHTML = '';\n",
              "          dataTable['output_type'] = 'display_data';\n",
              "          await google.colab.output.renderOutput(dataTable, element);\n",
              "          const docLink = document.createElement('div');\n",
              "          docLink.innerHTML = docLinkHtml;\n",
              "          element.appendChild(docLink);\n",
              "        }\n",
              "      </script>\n",
              "    </div>\n",
              "  </div>\n",
              "  "
            ]
          },
          "metadata": {},
          "execution_count": 36
        }
      ]
    }
  ]
}